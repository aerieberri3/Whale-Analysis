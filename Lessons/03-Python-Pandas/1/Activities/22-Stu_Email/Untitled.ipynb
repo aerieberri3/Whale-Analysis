{
 "cells": [
  {
   "cell_type": "code",
   "execution_count": 1,
   "id": "b9432fe2-3771-44be-868f-6fbfa09b96c6",
   "metadata": {},
   "outputs": [],
   "source": [
    "import os\n",
    "import csv"
   ]
  },
  {
   "cell_type": "code",
   "execution_count": 2,
   "id": "28f3bd5c-817a-4134-8b75-e6f606db09fd",
   "metadata": {},
   "outputs": [
    {
     "ename": "FileNotFoundError",
     "evalue": "[Errno 2] No such file or directory: 'output\\\\employees.csv'",
     "output_type": "error",
     "traceback": [
      "\u001b[1;31m---------------------------------------------------------------------------\u001b[0m",
      "\u001b[1;31mFileNotFoundError\u001b[0m                         Traceback (most recent call last)",
      "\u001b[1;32m~\\AppData\\Local\\Temp\\ipykernel_10312\\3998149066.py\u001b[0m in \u001b[0;36m<module>\u001b[1;34m\u001b[0m\n\u001b[0;32m     37\u001b[0m \u001b[1;31m# Write updated data to csv file\u001b[0m\u001b[1;33m\u001b[0m\u001b[1;33m\u001b[0m\u001b[0m\n\u001b[0;32m     38\u001b[0m \u001b[0mcsvpath\u001b[0m \u001b[1;33m=\u001b[0m \u001b[0mos\u001b[0m\u001b[1;33m.\u001b[0m\u001b[0mpath\u001b[0m\u001b[1;33m.\u001b[0m\u001b[0mjoin\u001b[0m\u001b[1;33m(\u001b[0m\u001b[1;34m\"output\"\u001b[0m\u001b[1;33m,\u001b[0m \u001b[0mfilename\u001b[0m\u001b[1;33m)\u001b[0m\u001b[1;33m\u001b[0m\u001b[1;33m\u001b[0m\u001b[0m\n\u001b[1;32m---> 39\u001b[1;33m \u001b[1;32mwith\u001b[0m \u001b[0mopen\u001b[0m\u001b[1;33m(\u001b[0m\u001b[0mcsvpath\u001b[0m\u001b[1;33m,\u001b[0m \u001b[1;34m\"w\"\u001b[0m\u001b[1;33m)\u001b[0m \u001b[1;32mas\u001b[0m \u001b[0mcsvfile\u001b[0m\u001b[1;33m:\u001b[0m\u001b[1;33m\u001b[0m\u001b[1;33m\u001b[0m\u001b[0m\n\u001b[0m\u001b[0;32m     40\u001b[0m     \u001b[0mfieldnames\u001b[0m \u001b[1;33m=\u001b[0m \u001b[1;33m[\u001b[0m\u001b[1;34m\"last_name\"\u001b[0m\u001b[1;33m,\u001b[0m \u001b[1;34m\"first_name\"\u001b[0m\u001b[1;33m,\u001b[0m \u001b[1;34m\"ssn\"\u001b[0m\u001b[1;33m,\u001b[0m \u001b[1;34m\"email\"\u001b[0m\u001b[1;33m]\u001b[0m\u001b[1;33m\u001b[0m\u001b[1;33m\u001b[0m\u001b[0m\n\u001b[0;32m     41\u001b[0m     \u001b[0mwriter\u001b[0m \u001b[1;33m=\u001b[0m \u001b[0mcsv\u001b[0m\u001b[1;33m.\u001b[0m\u001b[0mDictWriter\u001b[0m\u001b[1;33m(\u001b[0m\u001b[0mcsvfile\u001b[0m\u001b[1;33m,\u001b[0m \u001b[0mfieldnames\u001b[0m\u001b[1;33m=\u001b[0m\u001b[0mfieldnames\u001b[0m\u001b[1;33m)\u001b[0m\u001b[1;33m\u001b[0m\u001b[1;33m\u001b[0m\u001b[0m\n",
      "\u001b[1;31mFileNotFoundError\u001b[0m: [Errno 2] No such file or directory: 'output\\\\employees.csv'"
     ]
    }
   ],
   "source": [
    "# -*- coding: UTF-8 -*-\n",
    "\"\"\"Employee Email Script.\n",
    "\n",
    "This module allows us to create an email address using employee data from\n",
    "a csv file.\n",
    "\n",
    "Example:\n",
    "    $ python employee_email.py\n",
    "\n",
    "\"\"\"\n",
    "import os\n",
    "import csv\n",
    "\n",
    "filepath = os.path.join(\"Resources\", \"employees.csv\")\n",
    "\n",
    "new_employee_data = []\n",
    "\n",
    "# Read data into dictionary and create a new email field\n",
    "with open(filepath) as csvfile:\n",
    "    reader = csv.DictReader(csvfile)\n",
    "    for row in reader:\n",
    "        first_name = row[\"first_name\"]\n",
    "        last_name = row[\"last_name\"]\n",
    "        email = f\"{first_name}.{last_name}@example.com\"\n",
    "        new_employee_data.append(\n",
    "            {\n",
    "                \"first_name\": row[\"first_name\"],\n",
    "                \"last_name\": row[\"last_name\"],\n",
    "                \"ssn\": row[\"ssn\"],\n",
    "                \"email\": email\n",
    "            }\n",
    "        )\n",
    "\n",
    "# Grab the filename from the original path\n",
    "_, filename = os.path.split(filepath)\n",
    "\n",
    "# Write updated data to csv file\n",
    "csvpath = os.path.join(\"output\", filename)\n",
    "with open(csvpath, \"w\") as csvfile:\n",
    "    fieldnames = [\"last_name\", \"first_name\", \"ssn\", \"email\"]\n",
    "    writer = csv.DictWriter(csvfile, fieldnames=fieldnames)\n",
    "    writer.writeheader()\n",
    "    writer.writerows(new_employee_data)\n"
   ]
  },
  {
   "cell_type": "code",
   "execution_count": null,
   "id": "3d67fee1-1f99-46b2-8d29-c0e2327ef500",
   "metadata": {},
   "outputs": [],
   "source": []
  }
 ],
 "metadata": {
  "kernelspec": {
   "display_name": "Python 3 (ipykernel)",
   "language": "python",
   "name": "python3"
  },
  "language_info": {
   "codemirror_mode": {
    "name": "ipython",
    "version": 3
   },
   "file_extension": ".py",
   "mimetype": "text/x-python",
   "name": "python",
   "nbconvert_exporter": "python",
   "pygments_lexer": "ipython3",
   "version": "3.9.13"
  }
 },
 "nbformat": 4,
 "nbformat_minor": 5
}
