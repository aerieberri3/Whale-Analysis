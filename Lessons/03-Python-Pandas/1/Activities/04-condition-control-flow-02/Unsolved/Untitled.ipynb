{
 "cells": [
  {
   "cell_type": "code",
   "execution_count": 1,
   "id": "7fd1731b-29f3-4a14-a981-f5fea49945aa",
   "metadata": {},
   "outputs": [],
   "source": [
    "c1_name = \"Mr. Farley\""
   ]
  },
  {
   "cell_type": "code",
   "execution_count": 2,
   "id": "9ad60044-37a2-4412-8981-11be15ce251b",
   "metadata": {},
   "outputs": [],
   "source": [
    "c1_age = 65"
   ]
  },
  {
   "cell_type": "code",
   "execution_count": 3,
   "id": "91cecdb5-1331-4739-9c2c-efb3a9aa665a",
   "metadata": {},
   "outputs": [],
   "source": [
    "c1_profession = \"Web Developer\""
   ]
  },
  {
   "cell_type": "code",
   "execution_count": 4,
   "id": "7cc04b10-da02-40c1-8b71-9a568230df50",
   "metadata": {},
   "outputs": [],
   "source": [
    "c1_salary = 100000"
   ]
  },
  {
   "cell_type": "code",
   "execution_count": 5,
   "id": "3be77ca1-265f-4ef8-9bb3-8c0d31b7c05a",
   "metadata": {},
   "outputs": [],
   "source": [
    "c1_species = \"cat\""
   ]
  },
  {
   "cell_type": "code",
   "execution_count": 6,
   "id": "36fffedc-e254-49be-bf0f-b66ba82968e1",
   "metadata": {},
   "outputs": [],
   "source": [
    "c1_location = \"San Francisco, CA\""
   ]
  },
  {
   "cell_type": "code",
   "execution_count": 7,
   "id": "26888543-bd6f-4046-a75d-45e31d2ce0c0",
   "metadata": {},
   "outputs": [],
   "source": [
    "c1_monthly_rent = 2000"
   ]
  },
  {
   "cell_type": "code",
   "execution_count": 8,
   "id": "768820c0-e7a4-458b-b083-81b4d9d65171",
   "metadata": {},
   "outputs": [],
   "source": [
    "c1_monthly_expenses = 1500"
   ]
  },
  {
   "cell_type": "code",
   "execution_count": 9,
   "id": "99d466c9-fb97-48f5-aaca-2ef7a63ab639",
   "metadata": {},
   "outputs": [],
   "source": [
    "c1_yearly_rent = c1_monthly_rent * 12"
   ]
  },
  {
   "cell_type": "code",
   "execution_count": 10,
   "id": "a8bbbcc5-a5d6-4a8d-876c-5a65cb08b456",
   "metadata": {},
   "outputs": [],
   "source": [
    "c1_yearly_expenses = c1_monthly_expenses * 12"
   ]
  },
  {
   "cell_type": "code",
   "execution_count": 11,
   "id": "396b6086-6597-4028-978a-227fd289bfbb",
   "metadata": {},
   "outputs": [],
   "source": [
    "c1_savings = c1_salary - (c1_yearly_rent + c1_yearly_expenses)"
   ]
  },
  {
   "cell_type": "code",
   "execution_count": 12,
   "id": "e072fa00-6e2e-428a-a3ba-e0e23d7cfaa0",
   "metadata": {},
   "outputs": [],
   "source": [
    "c2_name = \"Mr. Snuggles\""
   ]
  },
  {
   "cell_type": "code",
   "execution_count": 13,
   "id": "f428e3c2-3e8b-4525-9e96-41e9853c5103",
   "metadata": {},
   "outputs": [],
   "source": [
    "c2_age = 30"
   ]
  },
  {
   "cell_type": "code",
   "execution_count": 14,
   "id": "3542a8d1-5fe4-4862-b0ce-a8fbd71e7527",
   "metadata": {},
   "outputs": [],
   "source": [
    "c2_species = \"mouse\""
   ]
  },
  {
   "cell_type": "code",
   "execution_count": 15,
   "id": "dd846640-9164-4549-b6cb-b8bd27d29472",
   "metadata": {},
   "outputs": [],
   "source": [
    "c2_profession = \"Accountant\""
   ]
  },
  {
   "cell_type": "code",
   "execution_count": 16,
   "id": "531db62f-7a9d-4bec-8ade-e481651ae8d0",
   "metadata": {},
   "outputs": [],
   "source": [
    "c2_salary = 70000"
   ]
  },
  {
   "cell_type": "code",
   "execution_count": 17,
   "id": "99a92216-1dfd-4a21-a494-adb9f9f955ef",
   "metadata": {},
   "outputs": [],
   "source": [
    "c2_location = \"Oakland, CA\""
   ]
  },
  {
   "cell_type": "code",
   "execution_count": 18,
   "id": "5b65775e-2bda-4b1c-9160-d161a1149d1a",
   "metadata": {},
   "outputs": [],
   "source": [
    "c2_monthly_rent = 4000"
   ]
  },
  {
   "cell_type": "code",
   "execution_count": 54,
   "id": "b050af0e-5565-459a-85c9-5a00f41e38d8",
   "metadata": {},
   "outputs": [],
   "source": [
    "c2_monthly_expenses = 1500"
   ]
  },
  {
   "cell_type": "code",
   "execution_count": 20,
   "id": "6481c67d-9225-4e91-967b-3318811c0f7f",
   "metadata": {},
   "outputs": [],
   "source": [
    "c2_yearly_rent = c2_monthly_rent * 12"
   ]
  },
  {
   "cell_type": "code",
   "execution_count": 21,
   "id": "77771cc9-2d18-44aa-b6ba-c06c1abd7a94",
   "metadata": {},
   "outputs": [],
   "source": [
    "c2_yearly_expenses = c2_monthly_expenses * 12"
   ]
  },
  {
   "cell_type": "code",
   "execution_count": 22,
   "id": "26974e95-101e-4364-9452-190fcc8be95e",
   "metadata": {},
   "outputs": [],
   "source": [
    "c2_savings = c2_salary - (c2_yearly_rent + c2_yearly_expenses)"
   ]
  },
  {
   "cell_type": "code",
   "execution_count": 23,
   "id": "033ac224-1152-4790-ac87-c7e1feeda0cb",
   "metadata": {},
   "outputs": [
    {
     "name": "stdout",
     "output_type": "stream",
     "text": [
      "Hello Mr. Farley\n"
     ]
    }
   ],
   "source": [
    "if c1_name == \"Mr. Farley\":\n",
    "    print(f\"Hello {c1_name}\")\n",
    "else:\n",
    "    print(\"Hello stranger!\")"
   ]
  },
  {
   "cell_type": "code",
   "execution_count": 30,
   "id": "0b4f22b8-81e2-45a6-a22a-116c09017475",
   "metadata": {},
   "outputs": [
    {
     "name": "stdout",
     "output_type": "stream",
     "text": [
      "Mr Snuggles is older than Mr. Farley\n"
     ]
    }
   ],
   "source": [
    "if c2_age>c1_age:\n",
    "    print('Mr. Farley is older than Mr. Snuggles')\n",
    "elif c1_age>c2_age:\n",
    "    print('Mr Snuggles is older than Mr. Farley' )\n",
    "else:\n",
    "    print('Mr. Farley is the same age as Mr. Snuggles')"
   ]
  },
  {
   "cell_type": "code",
   "execution_count": 42,
   "id": "cb623f3c-5737-4bff-a251-c14f91237bb9",
   "metadata": {},
   "outputs": [
    {
     "name": "stdout",
     "output_type": "stream",
     "text": [
      "Mr. Farley comes from the home of the 49ers!\n"
     ]
    }
   ],
   "source": [
    "if c1_location == 'Oakland, CA':\n",
    "    print(\"Mr. Farley comes from the home of the Raiders!\")\n",
    "elif c1_location ==\"San Francisco, CA\":\n",
    "    print(\"Mr. Farley comes from the home of the 49ers!\")\n",
    "else:\n",
    "    print(\"Mr. Farley doesn't hail from a sports town.\")"
   ]
  },
  {
   "cell_type": "code",
   "execution_count": 39,
   "id": "5be1d993-378a-4747-b226-51d886a5f275",
   "metadata": {},
   "outputs": [
    {
     "name": "stdout",
     "output_type": "stream",
     "text": [
      "Mr. Farley comes from the home of the 49ers!\n"
     ]
    }
   ],
   "source": [
    "if c1_location == \"Oakland, CA\":\n",
    "    print(\"Mr. Farley comes from the home of the Raiders!\")\n",
    "elif c1_location == \"San Francisco, CA\":\n",
    "    print(\"Mr. Farley comes from the home of the 49ers!\")\n",
    "else:\n",
    "    print(\"Mr. Farley doesn't hail from a sports town.\")"
   ]
  },
  {
   "cell_type": "code",
   "execution_count": 47,
   "id": "eca08b99-afd2-49b7-89ce-6a2fc7497dbb",
   "metadata": {},
   "outputs": [
    {
     "name": "stdout",
     "output_type": "stream",
     "text": [
      "Mr. Farley pays less rent than Mr. Snuggles\n"
     ]
    }
   ],
   "source": [
    "if c1_monthly_rent>c2_monthly_rent:\n",
    "    print(\"Mr. Farley pays more rent than Mr. Snuggles\")\n",
    "elif c1_monthly_rent<c2_monthly_rent:\n",
    "    print(\"Mr. Farley pays less rent than Mr. Snuggles\")\n",
    "else: \n",
    "    print(\"Mr. Farley pays the same rent as Mr. Snuggles\")"
   ]
  },
  {
   "cell_type": "code",
   "execution_count": 48,
   "id": "acccbc49-2e46-47be-99e5-9b08fac18ffb",
   "metadata": {},
   "outputs": [
    {
     "name": "stdout",
     "output_type": "stream",
     "text": [
      "Mr. Farley pays less rent than Mr. Snuggles\n"
     ]
    }
   ],
   "source": [
    "if c1_yearly_rent > c2_yearly_rent:\n",
    "    print(\"Mr. Farley pays more rent than Mr. Snuggles\")\n",
    "elif c1_yearly_rent < c2_yearly_rent:\n",
    "    print(\"Mr. Farley pays less rent than Mr. Snuggles\")\n",
    "else:\n",
    "    print(\"Mr. Farley pays the same rent as Mr. Snuggles\")"
   ]
  },
  {
   "cell_type": "code",
   "execution_count": 55,
   "id": "7b5c2705-1b2e-47a8-93cb-3dc486d857bc",
   "metadata": {},
   "outputs": [
    {
     "name": "stdout",
     "output_type": "stream",
     "text": [
      "Mr. Farley pays the same expenses at Mr. Snuggles\n"
     ]
    }
   ],
   "source": [
    "if c1_monthly_expenses>c2_monthly_expenses:\n",
    "    print('Mr. Farley has more expenses than Mr. Snuggles')\n",
    "elif c1_monthly_expenses<c2_monthly_expenses:\n",
    "    print('Mr Farley has less expenses than Mr.Snuggles')\n",
    "else:\n",
    "    print('Mr. Farley pays the same expenses at Mr. Snuggles')"
   ]
  },
  {
   "cell_type": "code",
   "execution_count": 63,
   "id": "42c9aa30-643b-4e07-9474-e59328f1ff8a",
   "metadata": {},
   "outputs": [
    {
     "name": "stdout",
     "output_type": "stream",
     "text": [
      "They are professionals\n"
     ]
    }
   ],
   "source": [
    "if c1_profession==\"Web Designer\"and c2_profession == \"Accountant\":\n",
    "    print(\"Look a Web Developer and an Accountant\")\n",
    "else:\n",
    "    print(\"They are professionals\")\n"
   ]
  },
  {
   "cell_type": "code",
   "execution_count": null,
   "id": "e6e2b2f3-f625-453c-abb8-9d4998c9e17b",
   "metadata": {},
   "outputs": [],
   "source": []
  }
 ],
 "metadata": {
  "kernelspec": {
   "display_name": "Python 3 (ipykernel)",
   "language": "python",
   "name": "python3"
  },
  "language_info": {
   "codemirror_mode": {
    "name": "ipython",
    "version": 3
   },
   "file_extension": ".py",
   "mimetype": "text/x-python",
   "name": "python",
   "nbconvert_exporter": "python",
   "pygments_lexer": "ipython3",
   "version": "3.9.13"
  }
 },
 "nbformat": 4,
 "nbformat_minor": 5
}
