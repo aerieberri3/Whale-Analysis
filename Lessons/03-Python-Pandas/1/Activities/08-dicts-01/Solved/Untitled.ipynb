{
 "cells": [
  {
   "cell_type": "code",
   "execution_count": 5,
   "id": "e716c583-406a-4d36-9397-6bed74aa75dd",
   "metadata": {},
   "outputs": [],
   "source": [
    "san_francisco={}\n",
    "\n",
    "san_francisco['west_coast']= True\n",
    "san_francisco['has_multiple_bridges']=True\n",
    "san_francisco['known_for_pizza']=False\n",
    "san_francisco['cosastal']=True\n",
    "san_francisco['snows']=False\n",
    "san_francisco['very hot']=False\n",
    "san_francisco['mayor']='London Bree'\n",
    "san_francisco['state']='California'\n",
    "san_francisco['country']='USA'\n",
    "san_francisco['best_food']='burritos'\n",
    "san_francisco['sports_teams']=['Giants','Warriors','Forty-Niners']\n",
    "san_francisco['tallest_building']='Sales Force'\n",
    "san_francisco['population']=884363\n",
    "san_francisco['city_size']='large'\n",
    "san_francisco['median_house_price']='1610000'\n",
    "san_francisco['famous_residents']=['Maya Angelou','Robert Frost','Carlos Santana'] \n",
    "san_francisco['homelss_pop']=1150\n",
    "san_francisco['political_leaning']='Democrat'  \n",
    "san_francisco['notable_attractions']=['Alcatraz','Golden Gate',\"Fisherman's Wharf\"]\n",
    "san_francisco['natural_disaster']=['Earthquakes','Drought','Mud Slides']                "
   ]
  },
  {
   "cell_type": "code",
   "execution_count": 6,
   "id": "480da1cb-15cc-48d9-8f12-50def7f0cfb9",
   "metadata": {},
   "outputs": [
    {
     "name": "stdout",
     "output_type": "stream",
     "text": [
      "{'west_coast': True, 'has_multiple_bridges': True, 'known_for_pizza': False, 'cosastal': True, 'snows': False, 'very hot': False, 'mayor': 'London Bree', 'state': 'California', 'country': 'USA', 'best_food': 'burritos', 'sports_teams': ['Giants', 'Warriors', 'Forty-Niners'], 'tallest_building': 'Sales Force', 'population': 884363, 'city_size': 'large', 'median_house_price': '1610000', 'famous_residents': ['Maya Angelou', 'Robert Frost', 'Carlos Santana'], 'homelss_pop': 1150, 'political_leaning': 'Democrat', 'notable_attractions': ['Alcatraz', 'Golden Gate', \"Fisherman's Wharf\"], 'natural_disaster': ['Earthquakes', 'Drought', 'Mud Slides']}\n"
     ]
    }
   ],
   "source": [
    "print(san_francisco)"
   ]
  },
  {
   "cell_type": "code",
   "execution_count": null,
   "id": "02ddb3b4-d3b2-4b44-b421-8ff23e263bb2",
   "metadata": {},
   "outputs": [],
   "source": []
  }
 ],
 "metadata": {
  "kernelspec": {
   "display_name": "Python 3 (ipykernel)",
   "language": "python",
   "name": "python3"
  },
  "language_info": {
   "codemirror_mode": {
    "name": "ipython",
    "version": 3
   },
   "file_extension": ".py",
   "mimetype": "text/x-python",
   "name": "python",
   "nbconvert_exporter": "python",
   "pygments_lexer": "ipython3",
   "version": "3.9.13"
  }
 },
 "nbformat": 4,
 "nbformat_minor": 5
}
