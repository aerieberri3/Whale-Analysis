{
 "cells": [
  {
   "cell_type": "code",
   "execution_count": 17,
   "id": "8750d68d-7f7f-4cfd-b676-0aba15b65d14",
   "metadata": {},
   "outputs": [
    {
     "name": "stdin",
     "output_type": "stream",
     "text": [
      "Welcome to the Boba Shop! What is your name? Erin\n"
     ]
    },
    {
     "name": "stdout",
     "output_type": "stream",
     "text": [
      "Hello Erin\n"
     ]
    }
   ],
   "source": [
    "name=input(\"Welcome to the Boba Shop! What is your name?\")\n",
    "if name!=''or name==None:\n",
    "    print(f'Hello {name}')\n",
    "\n"
   ]
  },
  {
   "cell_type": "code",
   "execution_count": 19,
   "id": "db3b2245-2ae2-441f-a90d-9bdd2ea397a1",
   "metadata": {},
   "outputs": [
    {
     "name": "stdin",
     "output_type": "stream",
     "text": [
      "What kind of boba drink would you like? thai\n"
     ]
    }
   ],
   "source": [
    "beverage=input('What kind of boba drink would you like?')\n",
    "    \n"
   ]
  },
  {
   "cell_type": "code",
   "execution_count": null,
   "id": "a52f7953-d78a-4bf4-994c-55c7a78633f9",
   "metadata": {},
   "outputs": [],
   "source": [
    "sweetness=input('How sweet do you want your drink:0,50,100, or 200?')\n",
    "if sweetness_level == \"50\":\n",
    "    sweetness='half sweetened'\n",
    "elif sweetness_level =='100':\n",
    "    sweetness_level = 'normal sweet'\n",
    "elif sweetness_level =='200'\n",
    "    sweetness_level = 'super sweet'\n",
    "else:\n",
    "    sweetness='not-sweet'\n",
    "print(f'Your \n",
    "    "
   ]
  }
 ],
 "metadata": {
  "kernelspec": {
   "display_name": "Python 3 (ipykernel)",
   "language": "python",
   "name": "python3"
  },
  "language_info": {
   "codemirror_mode": {
    "name": "ipython",
    "version": 3
   },
   "file_extension": ".py",
   "mimetype": "text/x-python",
   "name": "python",
   "nbconvert_exporter": "python",
   "pygments_lexer": "ipython3",
   "version": "3.9.13"
  }
 },
 "nbformat": 4,
 "nbformat_minor": 5
}
