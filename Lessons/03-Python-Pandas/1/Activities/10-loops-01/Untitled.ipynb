{
 "cells": [
  {
   "cell_type": "code",
   "execution_count": 1,
   "id": "2a887b97-0baa-4831-a98e-046c17a018af",
   "metadata": {},
   "outputs": [],
   "source": [
    "our_list=[]"
   ]
  },
  {
   "cell_type": "code",
   "execution_count": 4,
   "id": "9f156d26-b791-4287-9d3a-b21934a57f03",
   "metadata": {},
   "outputs": [],
   "source": [
    "our_list.append(1)"
   ]
  },
  {
   "cell_type": "code",
   "execution_count": 7,
   "id": "eef0e710-704b-4cd4-977c-b7e8d9fd45f9",
   "metadata": {},
   "outputs": [
    {
     "name": "stdout",
     "output_type": "stream",
     "text": [
      "1\n"
     ]
    }
   ],
   "source": [
    "print(our_list[0])"
   ]
  },
  {
   "cell_type": "code",
   "execution_count": 8,
   "id": "ad0b21aa-3039-4ff9-b6b9-fd9731b3580d",
   "metadata": {},
   "outputs": [],
   "source": [
    "our_list.append('hello')"
   ]
  },
  {
   "cell_type": "code",
   "execution_count": 9,
   "id": "0c327d57-d57a-46c0-8ff1-8a02ad93cfed",
   "metadata": {},
   "outputs": [
    {
     "name": "stdout",
     "output_type": "stream",
     "text": [
      "[1, 'hello']\n"
     ]
    }
   ],
   "source": [
    "print(our_list)"
   ]
  },
  {
   "cell_type": "code",
   "execution_count": 10,
   "id": "cd45d11e-77c8-4028-acd0-210de87c1d49",
   "metadata": {},
   "outputs": [],
   "source": [
    "our_list.append(84)"
   ]
  },
  {
   "cell_type": "code",
   "execution_count": 11,
   "id": "1349846b-326f-4f9b-be24-8117e5ba338b",
   "metadata": {},
   "outputs": [],
   "source": [
    "our_list.append(\"False\")"
   ]
  },
  {
   "cell_type": "code",
   "execution_count": 12,
   "id": "9f4aefc5-afff-4c4a-a658-e6fad8ab9a43",
   "metadata": {},
   "outputs": [],
   "source": [
    "our_list.append('wolrd')"
   ]
  },
  {
   "cell_type": "code",
   "execution_count": 13,
   "id": "b04bed09-c7c6-47a7-ae1b-a507949b7269",
   "metadata": {},
   "outputs": [
    {
     "name": "stdout",
     "output_type": "stream",
     "text": [
      "[1, 'hello', 84, 'False', 'wolrd']\n"
     ]
    }
   ],
   "source": [
    "print(our_list)"
   ]
  },
  {
   "cell_type": "code",
   "execution_count": 14,
   "id": "d7d3eb11-bf45-470d-a47b-dfbab6a4d690",
   "metadata": {},
   "outputs": [
    {
     "name": "stdout",
     "output_type": "stream",
     "text": [
      "Print `our_list`: [1, 'hello', 84, 'False', 'wolrd']\n"
     ]
    }
   ],
   "source": [
    "print(f\"Print `our_list`: {our_list}\")"
   ]
  },
  {
   "cell_type": "code",
   "execution_count": 15,
   "id": "1988629a-9954-41d6-bcf1-12953a930190",
   "metadata": {},
   "outputs": [],
   "source": [
    "one_to_ten=[1,2,3,4,5,6,7,8,9,10]"
   ]
  },
  {
   "cell_type": "code",
   "execution_count": 16,
   "id": "5378038d-3c83-4908-90cf-7c3a3ad61f40",
   "metadata": {},
   "outputs": [
    {
     "name": "stdout",
     "output_type": "stream",
     "text": [
      "[1, 2, 3, 4, 5, 6, 7, 8, 9, 10]\n"
     ]
    }
   ],
   "source": [
    "print(one_to_ten)"
   ]
  },
  {
   "cell_type": "raw",
   "id": "9e7cd808-3692-421f-85fe-8eb67ab89e4d",
   "metadata": {},
   "source": []
  },
  {
   "cell_type": "code",
   "execution_count": 24,
   "id": "682a11e9-f57d-4807-a207-591b2efcffad",
   "metadata": {},
   "outputs": [
    {
     "name": "stdout",
     "output_type": "stream",
     "text": [
      "5\n"
     ]
    }
   ],
   "source": [
    "print(one_to_ten[4])"
   ]
  },
  {
   "cell_type": "raw",
   "id": "cea75e3e-9251-4cfd-bb84-4a4ad59ce572",
   "metadata": {},
   "source": [
    "print(f\"Print the 4th element fron 'one-_to_ten':{one_to_ten[3]}\")"
   ]
  },
  {
   "cell_type": "code",
   "execution_count": 21,
   "id": "95b6445e-4732-4de2-9d4f-734448a84452",
   "metadata": {},
   "outputs": [
    {
     "name": "stdout",
     "output_type": "stream",
     "text": [
      "8\n"
     ]
    }
   ],
   "source": [
    "print(one_to_ten[7])"
   ]
  },
  {
   "cell_type": "code",
   "execution_count": 22,
   "id": "79ab9e03-9195-4e21-a23f-7a08b8dec72f",
   "metadata": {},
   "outputs": [
    {
     "name": "stdout",
     "output_type": "stream",
     "text": [
      "Print the 4th element from `one_to_ten`: 4\n"
     ]
    }
   ],
   "source": [
    "print(f\"Print the 4th element from `one_to_ten`: {one_to_ten[3]}\")"
   ]
  },
  {
   "cell_type": "code",
   "execution_count": null,
   "id": "bdd74a2b-9c11-4681-9fc1-b1c7614af1b9",
   "metadata": {},
   "outputs": [],
   "source": []
  },
  {
   "cell_type": "code",
   "execution_count": 23,
   "id": "0a30fbee-a378-4afa-af72-e9a9d2f18081",
   "metadata": {},
   "outputs": [
    {
     "name": "stdout",
     "output_type": "stream",
     "text": [
      "Print the 4th element from'one_to_ten':4\n"
     ]
    }
   ],
   "source": [
    "print(f\"Print the 4th element from'one_to_ten':{one_to_ten[3]}\")"
   ]
  },
  {
   "cell_type": "code",
   "execution_count": 26,
   "id": "e44b6552-90b2-4d9c-aabc-454be6834745",
   "metadata": {},
   "outputs": [
    {
     "name": "stdout",
     "output_type": "stream",
     "text": [
      "Print the 7th element from 'one_to_ten':7 \n"
     ]
    }
   ],
   "source": [
    "print(f\"Print the 7th element from 'one_to_ten':{one_to_ten[6]} \")"
   ]
  },
  {
   "cell_type": "code",
   "execution_count": 34,
   "id": "0bbeee1a-e9cf-4b06-88c1-d7ff5661407f",
   "metadata": {},
   "outputs": [],
   "source": [
    "##New List Num_List\n",
    "num_list = [2, 65, 3, 7, 39, 22, 11, 94, 299, 9, 20, 21, 51, 37]"
   ]
  },
  {
   "cell_type": "code",
   "execution_count": 37,
   "id": "5609e860-fcdc-4fe1-9fb4-14cf74ff2b45",
   "metadata": {},
   "outputs": [
    {
     "name": "stdout",
     "output_type": "stream",
     "text": [
      "Numbers greater than 50:\n",
      "65\n",
      "94\n",
      "299\n",
      "51\n"
     ]
    }
   ],
   "source": [
    "print('Numbers greater than 50:')\n",
    "for number in num_list:\n",
    "    if number>50:\n",
    "        print(number)"
   ]
  },
  {
   "cell_type": "code",
   "execution_count": 36,
   "id": "b987d95c-d8f5-427b-9079-21ca7390ff22",
   "metadata": {},
   "outputs": [
    {
     "name": "stdout",
     "output_type": "stream",
     "text": [
      "Numbers greater than 50:\n",
      "65\n",
      "94\n",
      "299\n",
      "51\n"
     ]
    }
   ],
   "source": [
    "print(\"Numbers greater than 50:\")\n",
    "for number in num_list:\n",
    "    if number > 50:\n",
    "        print(number)"
   ]
  },
  {
   "cell_type": "code",
   "execution_count": 38,
   "id": "086b79f5-6cad-419b-be78-e34b3330072b",
   "metadata": {},
   "outputs": [
    {
     "name": "stdout",
     "output_type": "stream",
     "text": [
      "21\n"
     ]
    }
   ],
   "source": [
    "print(num_list[11])"
   ]
  },
  {
   "cell_type": "code",
   "execution_count": 41,
   "id": "e0e7dcdb-fea7-46ca-82d7-fa722bc940ff",
   "metadata": {},
   "outputs": [
    {
     "name": "stdout",
     "output_type": "stream",
     "text": [
      "Index of first occurance of the number 11:\n",
      "6\n"
     ]
    }
   ],
   "source": [
    "print('Index of first occurance of the number 11:')\n",
    "index=0\n",
    "for number in num_list:\n",
    "    if number ==11:\n",
    "        print(index)\n",
    "    index+=1"
   ]
  },
  {
   "cell_type": "code",
   "execution_count": 44,
   "id": "14bc9886-6d87-4091-af20-fc139209bdee",
   "metadata": {},
   "outputs": [
    {
     "name": "stdout",
     "output_type": "stream",
     "text": [
      "Sum of all numbers:\n",
      "680\n"
     ]
    }
   ],
   "source": [
    "print(\"Sum of all numbers:\")\n",
    "sum = 0\n",
    "for number in num_list:\n",
    "    sum += number\n",
    "print(sum)"
   ]
  },
  {
   "cell_type": "code",
   "execution_count": 45,
   "id": "9141a9fc-632d-4fdb-9079-10f14207fbcc",
   "metadata": {},
   "outputs": [
    {
     "name": "stdout",
     "output_type": "stream",
     "text": [
      "Sum of all numbers:\n",
      "680\n"
     ]
    }
   ],
   "source": [
    "print('Sum of all numbers:')\n",
    "sum=0\n",
    "for number in num_list:\n",
    "    sum+=number\n",
    "print(sum)"
   ]
  },
  {
   "cell_type": "code",
   "execution_count": 47,
   "id": "1bc8bf09-8ab0-4954-8c10-1d004ce70626",
   "metadata": {},
   "outputs": [
    {
     "name": "stdout",
     "output_type": "stream",
     "text": [
      "Sum of all numbers greater than 50:\n",
      "509\n"
     ]
    }
   ],
   "source": [
    "print('Sum of all numbers greater than 50:')\n",
    "sum=0\n",
    "for number in num_list:\n",
    "    if number>50:\n",
    "        sum+=number\n",
    "print(sum)"
   ]
  },
  {
   "cell_type": "code",
   "execution_count": 50,
   "id": "ef055be3-7991-46e4-ad7b-7dee7acc99c5",
   "metadata": {
    "scrolled": true,
    "tags": []
   },
   "outputs": [
    {
     "name": "stdout",
     "output_type": "stream",
     "text": [
      "Sum of all numbers greater than 50:\n",
      "509\n"
     ]
    }
   ],
   "source": [
    "print(\"Sum of all numbers greater than 50:\")\n",
    "sum = 0\n",
    "for number in num_list:\n",
    "    if number > 50:\n",
    "        sum += number\n",
    "print(sum)"
   ]
  },
  {
   "cell_type": "code",
   "execution_count": 49,
   "id": "6b40c5cd-5260-4c88-8ab4-102ba83727d3",
   "metadata": {},
   "outputs": [
    {
     "name": "stdout",
     "output_type": "stream",
     "text": [
      "Sum of all even numbers:\n",
      "138\n"
     ]
    }
   ],
   "source": [
    "print('Sum of all even numbers:')\n",
    "sum=0\n",
    "for number in num_list:\n",
    "    if number %2==0:\n",
    "        sum += number\n",
    "print(sum)"
   ]
  },
  {
   "cell_type": "raw",
   "id": "d5de8b45-d368-4487-af61-f9e611d0055f",
   "metadata": {},
   "source": [
    "## FRUIT LIST\n"
   ]
  },
  {
   "cell_type": "code",
   "execution_count": 8,
   "id": "7a128cc2-14c3-4a7f-8b48-958003c3c074",
   "metadata": {},
   "outputs": [
    {
     "name": "stdout",
     "output_type": "stream",
     "text": [
      "20\n",
      "22\n",
      "['Apple', 'Orange', 'Banana', 'Pomelo', 'Apple', 'Kiwi', 'Peach', 'Banana', 'Grape', 'Tomato', 'Kiwi', 'Apple', 'Watermelon', 'Lemon', 'Pomelo', 'Apple', 'Banana', 'Peach', 'Apricot', 'Grape', 'Mango', 'Lychee']\n"
     ]
    }
   ],
   "source": [
    "fruit = [\n",
    "  \"Apple\", \"Orange\", \"Banana\", \"Pomelo\", \"Apple\", \"Kiwi\", \"Peach\", \"Banana\", \"Grape\", \"Tomato\",\n",
    "  \"Kiwi\", \"Apple\", \"Watermelon\", \"Lemon\", \"Pomelo\", \"Apple\", \"Banana\", \"Peach\", \"Apricot\", \"Grape\"]\n",
    "print(len(fruit))\n",
    "\n",
    "fruit.extend([\"Mango\",\"Lychee\"])\n",
    "\n",
    "print(len(fruit))\n",
    "\n",
    "print(fruit)\n"
   ]
  },
  {
   "cell_type": "code",
   "execution_count": 9,
   "id": "27ff17d9-e850-4f07-9bcc-b32b8eb4b028",
   "metadata": {},
   "outputs": [
    {
     "name": "stdout",
     "output_type": "stream",
     "text": [
      "Number of times 'Apple' does not appears in list:\n"
     ]
    },
    {
     "ename": "NameError",
     "evalue": "name 'fruits' is not defined",
     "output_type": "error",
     "traceback": [
      "\u001b[1;31m---------------------------------------------------------------------------\u001b[0m",
      "\u001b[1;31mNameError\u001b[0m                                 Traceback (most recent call last)",
      "\u001b[1;32m~\\AppData\\Local\\Temp\\ipykernel_8420\\2088335119.py\u001b[0m in \u001b[0;36m<module>\u001b[1;34m\u001b[0m\n\u001b[0;32m      1\u001b[0m \u001b[0mprint\u001b[0m\u001b[1;33m(\u001b[0m\u001b[1;34m\"Number of times 'Apple' does not appears in list:\"\u001b[0m\u001b[1;33m)\u001b[0m\u001b[1;33m\u001b[0m\u001b[1;33m\u001b[0m\u001b[0m\n\u001b[0;32m      2\u001b[0m \u001b[0mcount\u001b[0m\u001b[1;33m=\u001b[0m\u001b[1;36m0\u001b[0m\u001b[1;33m\u001b[0m\u001b[1;33m\u001b[0m\u001b[0m\n\u001b[1;32m----> 3\u001b[1;33m \u001b[1;32mfor\u001b[0m \u001b[0mfruit\u001b[0m \u001b[1;32min\u001b[0m \u001b[0mfruits\u001b[0m\u001b[1;33m:\u001b[0m\u001b[1;33m\u001b[0m\u001b[1;33m\u001b[0m\u001b[0m\n\u001b[0m\u001b[0;32m      4\u001b[0m     \u001b[1;32mif\u001b[0m \u001b[0mfruit\u001b[0m \u001b[1;33m!=\u001b[0m\u001b[1;34m\"Apple\"\u001b[0m\u001b[1;33m:\u001b[0m\u001b[1;33m\u001b[0m\u001b[1;33m\u001b[0m\u001b[0m\n\u001b[0;32m      5\u001b[0m         \u001b[0mcount\u001b[0m\u001b[1;33m+=\u001b[0m\u001b[1;36m1\u001b[0m\u001b[1;33m\u001b[0m\u001b[1;33m\u001b[0m\u001b[0m\n",
      "\u001b[1;31mNameError\u001b[0m: name 'fruits' is not defined"
     ]
    }
   ],
   "source": [
    "print(\"Number of times 'Apple' does not appears in list:\")\n",
    "count=0\n",
    "for fruit in fruits:\n",
    "    if fruit !=\"Apple\":\n",
    "        count+=1\n",
    "print(count)"
   ]
  },
  {
   "cell_type": "code",
   "execution_count": 11,
   "id": "fc6a2f4e-e246-478f-8afd-79b57f99ac52",
   "metadata": {},
   "outputs": [],
   "source": [
    "fruit=['Apple', 'Orange', 'Banana', 'Pomelo', 'Apple', 'Kiwi', 'Peach', 'Banana', 'Grape', 'Tomato', 'Kiwi', 'Apple', 'Watermelon', 'Lemon', 'Pomelo', 'Apple', 'Banana', 'Peach', 'Apricot', 'Grape', 'Mango', 'Lychee']"
   ]
  },
  {
   "cell_type": "code",
   "execution_count": 12,
   "id": "2a58e7b9-7f3c-4a23-8051-db57c4a158b3",
   "metadata": {},
   "outputs": [
    {
     "name": "stdout",
     "output_type": "stream",
     "text": [
      "Number of times 'Apple' appears in the list:\n"
     ]
    },
    {
     "ename": "NameError",
     "evalue": "name 'fruits' is not defined",
     "output_type": "error",
     "traceback": [
      "\u001b[1;31m---------------------------------------------------------------------------\u001b[0m",
      "\u001b[1;31mNameError\u001b[0m                                 Traceback (most recent call last)",
      "\u001b[1;32m~\\AppData\\Local\\Temp\\ipykernel_8420\\2866631656.py\u001b[0m in \u001b[0;36m<module>\u001b[1;34m\u001b[0m\n\u001b[0;32m      1\u001b[0m \u001b[0mprint\u001b[0m\u001b[1;33m(\u001b[0m\u001b[1;34m\"Number of times 'Apple' appears in the list:\"\u001b[0m\u001b[1;33m)\u001b[0m\u001b[1;33m\u001b[0m\u001b[1;33m\u001b[0m\u001b[0m\n\u001b[0;32m      2\u001b[0m \u001b[0mcount\u001b[0m \u001b[1;33m=\u001b[0m \u001b[1;36m0\u001b[0m\u001b[1;33m\u001b[0m\u001b[1;33m\u001b[0m\u001b[0m\n\u001b[1;32m----> 3\u001b[1;33m \u001b[1;32mfor\u001b[0m \u001b[0mfruit\u001b[0m \u001b[1;32min\u001b[0m \u001b[0mfruits\u001b[0m\u001b[1;33m:\u001b[0m\u001b[1;33m\u001b[0m\u001b[1;33m\u001b[0m\u001b[0m\n\u001b[0m\u001b[0;32m      4\u001b[0m     \u001b[1;32mif\u001b[0m \u001b[0mfruit\u001b[0m \u001b[1;33m==\u001b[0m \u001b[1;34m\"Apple\"\u001b[0m\u001b[1;33m:\u001b[0m\u001b[1;33m\u001b[0m\u001b[1;33m\u001b[0m\u001b[0m\n\u001b[0;32m      5\u001b[0m         \u001b[0mcount\u001b[0m \u001b[1;33m+=\u001b[0m \u001b[1;36m1\u001b[0m\u001b[1;33m\u001b[0m\u001b[1;33m\u001b[0m\u001b[0m\n",
      "\u001b[1;31mNameError\u001b[0m: name 'fruits' is not defined"
     ]
    }
   ],
   "source": [
    "print(\"Number of times 'Apple' appears in the list:\")\n",
    "count = 0\n",
    "for fruit in fruits:\n",
    "    if fruit == \"Apple\":\n",
    "        count += 1\n",
    "print(count)"
   ]
  },
  {
   "cell_type": "code",
   "execution_count": 4,
   "id": "27643dc1-89c9-4eca-9633-a378214d8b0f",
   "metadata": {},
   "outputs": [
    {
     "ename": "SyntaxError",
     "evalue": "invalid syntax (3342103427.py, line 1)",
     "output_type": "error",
     "traceback": [
      "\u001b[1;36m  File \u001b[1;32m\"C:\\Users\\16238\\AppData\\Local\\Temp\\ipykernel_8420\\3342103427.py\"\u001b[1;36m, line \u001b[1;32m1\u001b[0m\n\u001b[1;33m    print('Number of times\"Peach\"appears in the list':)\u001b[0m\n\u001b[1;37m                                                     ^\u001b[0m\n\u001b[1;31mSyntaxError\u001b[0m\u001b[1;31m:\u001b[0m invalid syntax\n"
     ]
    }
   ],
   "source": [
    "print('Number of times\"Peach\"appears in the list':)\n",
    "count+0\n",
    "for fruit in fruits\"\n",
    "    if fruit ==\"Peach\":\n",
    "        count+=1\n",
    "    print(count)"
   ]
  },
  {
   "cell_type": "code",
   "execution_count": 15,
   "id": "8f87355d-abbb-460c-bb9f-771a28285076",
   "metadata": {},
   "outputs": [],
   "source": [
    "fruits=['Apple', 'Orange', 'Banana', 'Pomelo', 'Apple', 'Kiwi', 'Peach', 'Banana', 'Grape', 'Tomato', 'Kiwi', 'Apple', 'Watermelon', 'Lemon', 'Pomelo', 'Apple', 'Banana', 'Peach', 'Apricot', 'Grape', 'Mango', 'Lychee']"
   ]
  },
  {
   "cell_type": "code",
   "execution_count": 19,
   "id": "6b608a99-794a-4be8-b4a9-338a69ca9640",
   "metadata": {},
   "outputs": [
    {
     "name": "stdout",
     "output_type": "stream",
     "text": [
      "Number of times\"Peach\"appears in the list:\n",
      "2\n"
     ]
    }
   ],
   "source": [
    "print('Number of times\"Peach\"appears in the list:')\n",
    "count=0\n",
    "for fruit in fruits:\n",
    "    if fruit ==\"Peach\":\n",
    "        count+=1\n",
    "print(count)"
   ]
  },
  {
   "cell_type": "code",
   "execution_count": 21,
   "id": "a9959d88-8394-4e0f-9fad-f16ec5f2fb15",
   "metadata": {},
   "outputs": [
    {
     "name": "stdout",
     "output_type": "stream",
     "text": [
      "Number of times 'Kiwi' appears in the list:\n",
      "1\n"
     ]
    }
   ],
   "source": [
    "print(\"Number of times 'Kiwi' appears in the list:\")\n",
    "count=0\n",
    "for fruit in fruits:\n",
    "    if fruit=='Kiwi':\n",
    "        count=+1\n",
    "print(count)\n",
    "    "
   ]
  },
  {
   "cell_type": "code",
   "execution_count": 26,
   "id": "fa6d55a0-bdb6-4c4c-828a-8239deb9ce71",
   "metadata": {},
   "outputs": [
    {
     "name": "stdout",
     "output_type": "stream",
     "text": [
      "Number of fruits that start with 'P':\n",
      "4\n"
     ]
    }
   ],
   "source": [
    "print(\"Number of fruits that start with 'P':\")\n",
    "count=0\n",
    "for fruit in fruits:\n",
    "    if fruit[0]=='P' or fruit[0]=='p':\n",
    "        count+=1\n",
    "print(count)\n",
    "    "
   ]
  },
  {
   "cell_type": "code",
   "execution_count": 27,
   "id": "b648d612-9eed-4f55-9e43-6a275105a5d5",
   "metadata": {},
   "outputs": [
    {
     "ename": "NameError",
     "evalue": "name 'fruit_list' is not defined",
     "output_type": "error",
     "traceback": [
      "\u001b[1;31m---------------------------------------------------------------------------\u001b[0m",
      "\u001b[1;31mNameError\u001b[0m                                 Traceback (most recent call last)",
      "\u001b[1;32m~\\AppData\\Local\\Temp\\ipykernel_8420\\340841502.py\u001b[0m in \u001b[0;36m<module>\u001b[1;34m\u001b[0m\n\u001b[1;32m----> 1\u001b[1;33m \u001b[0mprint\u001b[0m \u001b[1;33m(\u001b[0m\u001b[1;34m\"The list is: \"\u001b[0m \u001b[1;33m+\u001b[0m \u001b[0mstr\u001b[0m\u001b[1;33m(\u001b[0m\u001b[0mfruit_list\u001b[0m\u001b[1;33m)\u001b[0m\u001b[1;33m)\u001b[0m\u001b[1;33m\u001b[0m\u001b[1;33m\u001b[0m\u001b[0m\n\u001b[0m",
      "\u001b[1;31mNameError\u001b[0m: name 'fruit_list' is not defined"
     ]
    }
   ],
   "source": []
  },
  {
   "cell_type": "code",
   "execution_count": 29,
   "id": "5a4bae46-f276-492c-b808-d9b8b8db854a",
   "metadata": {},
   "outputs": [
    {
     "name": "stdout",
     "output_type": "stream",
     "text": [
      "Original List: ['Apple', 'Orange', 'Banana', 'Pomelo', 'Apple', 'Kiwi', 'Peach', 'Banana', 'Grape', 'Tomato', 'Kiwi', 'Apple', 'Watermelon', 'Lemon', 'Pomelo', 'Apple', 'Banana', 'Peach', 'Apricot', 'Grape', 'Mango', 'Lychee']\n",
      "List after removing duplicate elements: ['Orange', 'Tomato', 'Pomelo', 'Peach', 'Lemon', 'Lychee', 'Kiwi', 'Grape', 'Banana', 'Apricot', 'Mango', 'Apple', 'Watermelon']\n"
     ]
    }
   ],
   "source": [
    "fruits=['Apple', 'Orange', 'Banana', 'Pomelo', 'Apple', 'Kiwi', 'Peach', 'Banana', 'Grape', 'Tomato', 'Kiwi', 'Apple', 'Watermelon', 'Lemon', 'Pomelo', 'Apple', 'Banana', 'Peach', 'Apricot', 'Grape', 'Mango', 'Lychee']\n",
    "print(\"Original List:\",fruits)\n",
    "res=[*set(fruits)]\n",
    "print('List after removing duplicate elements:',res)"
   ]
  },
  {
   "cell_type": "code",
   "execution_count": 30,
   "id": "8c5652f7-dea5-4eeb-a6c9-9f55a4090119",
   "metadata": {},
   "outputs": [
    {
     "name": "stdout",
     "output_type": "stream",
     "text": [
      "22\n"
     ]
    }
   ],
   "source": [
    "print(len(fruits))"
   ]
  },
  {
   "cell_type": "code",
   "execution_count": 32,
   "id": "05250d45-7c08-44a6-961f-b4d1ca02fb55",
   "metadata": {},
   "outputs": [],
   "source": [
    "unique_fruits =  ['Orange', 'Tomato', 'Pomelo', 'Peach', 'Lemon', 'Lychee', 'Kiwi', 'Grape', 'Banana', 'Apricot', 'Mango', 'Apple', 'Watermelon']"
   ]
  },
  {
   "cell_type": "code",
   "execution_count": 33,
   "id": "aab8b57d-681e-46cb-a0a2-d577addd4703",
   "metadata": {},
   "outputs": [
    {
     "name": "stdout",
     "output_type": "stream",
     "text": [
      "13\n"
     ]
    }
   ],
   "source": [
    "print(len(unique_fruits))"
   ]
  },
  {
   "cell_type": "code",
   "execution_count": null,
   "id": "eafcd459-d91a-45ab-ac13-083a4bd84a6e",
   "metadata": {},
   "outputs": [],
   "source": []
  }
 ],
 "metadata": {
  "kernelspec": {
   "display_name": "Python 3 (ipykernel)",
   "language": "python",
   "name": "python3"
  },
  "language_info": {
   "codemirror_mode": {
    "name": "ipython",
    "version": 3
   },
   "file_extension": ".py",
   "mimetype": "text/x-python",
   "name": "python",
   "nbconvert_exporter": "python",
   "pygments_lexer": "ipython3",
   "version": "3.9.13"
  }
 },
 "nbformat": 4,
 "nbformat_minor": 5
}
