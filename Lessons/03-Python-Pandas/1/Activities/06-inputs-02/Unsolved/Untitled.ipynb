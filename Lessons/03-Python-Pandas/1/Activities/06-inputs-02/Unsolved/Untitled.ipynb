{
 "cells": [
  {
   "cell_type": "code",
   "execution_count": 2,
   "id": "3093e32a-c0fa-4ef7-8bd7-1618df2057f9",
   "metadata": {},
   "outputs": [],
   "source": [
    "list_1=['0,1,2,3']"
   ]
  },
  {
   "cell_type": "code",
   "execution_count": 3,
   "id": "2e8e63d8-56c2-40c2-a080-f98034863499",
   "metadata": {},
   "outputs": [
    {
     "name": "stdout",
     "output_type": "stream",
     "text": [
      "['0,1,2,3']\n"
     ]
    }
   ],
   "source": [
    "print(list_1)\n"
   ]
  },
  {
   "cell_type": "code",
   "execution_count": 5,
   "id": "276d224d-196b-4e0d-b5ee-a0cfe7a82ab9",
   "metadata": {},
   "outputs": [],
   "source": [
    "list_5=[16,69,96]\n"
   ]
  },
  {
   "cell_type": "code",
   "execution_count": 6,
   "id": "65653c7b-5146-4467-ab6b-cbd4cc09de13",
   "metadata": {},
   "outputs": [
    {
     "name": "stdout",
     "output_type": "stream",
     "text": [
      "69\n"
     ]
    }
   ],
   "source": [
    "print(list_5[1])"
   ]
  },
  {
   "cell_type": "code",
   "execution_count": null,
   "id": "8db92729-2901-41f5-b4cb-07d5d12b5b99",
   "metadata": {},
   "outputs": [],
   "source": []
  }
 ],
 "metadata": {
  "kernelspec": {
   "display_name": "Python 3 (ipykernel)",
   "language": "python",
   "name": "python3"
  },
  "language_info": {
   "codemirror_mode": {
    "name": "ipython",
    "version": 3
   },
   "file_extension": ".py",
   "mimetype": "text/x-python",
   "name": "python",
   "nbconvert_exporter": "python",
   "pygments_lexer": "ipython3",
   "version": "3.9.13"
  }
 },
 "nbformat": 4,
 "nbformat_minor": 5
}
