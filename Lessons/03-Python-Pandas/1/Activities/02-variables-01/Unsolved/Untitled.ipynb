{
 "cells": [
  {
   "cell_type": "code",
   "execution_count": null,
   "id": "bd021c6a-e8fb-49ef-b5fd-a3bc13f9f445",
   "metadata": {},
   "outputs": [],
   "source": [
    "subject = None"
   ]
  },
  {
   "cell_type": "code",
   "execution_count": null,
   "id": "9a4ddc2b-5e56-4929-a453-4d4898b505f5",
   "metadata": {},
   "outputs": [],
   "source": [
    "subject = 'Programmers' "
   ]
  },
  {
   "cell_type": "code",
   "execution_count": null,
   "id": "334d81a5-56cf-44aa-8150-adc97457d5a4",
   "metadata": {},
   "outputs": [],
   "source": [
    "first_name = ''"
   ]
  },
  {
   "cell_type": "code",
   "execution_count": null,
   "id": "cccb0cfb-7d59-47af-a42e-e7e8ee54ab49",
   "metadata": {},
   "outputs": [],
   "source": [
    "first_name = 'Ada'"
   ]
  },
  {
   "cell_type": "code",
   "execution_count": null,
   "id": "f9c77928-e7f9-4b50-92ef-27abefb62405",
   "metadata": {},
   "outputs": [],
   "source": [
    "last_name = 'Lovelace'"
   ]
  },
  {
   "cell_type": "code",
   "execution_count": null,
   "id": "08705425-4bd1-4206-ac37-e244b3de78c5",
   "metadata": {},
   "outputs": [],
   "source": [
    "full_name = f'{first_name} {last_name}'"
   ]
  },
  {
   "cell_type": "code",
   "execution_count": null,
   "id": "72b6b99e-9790-4a45-97f4-db3dffd2b543",
   "metadata": {},
   "outputs": [],
   "source": [
    "profession = 'Computer Programmer'"
   ]
  },
  {
   "cell_type": "code",
   "execution_count": null,
   "id": "9c53d63e-43c5-4109-a37b-010e226adc5c",
   "metadata": {},
   "outputs": [],
   "source": [
    "known_for = 'First Computer Programmer'"
   ]
  },
  {
   "cell_type": "code",
   "execution_count": null,
   "id": "0740c7a1-4e4d-44ea-a65e-c0a9c5ccc3cb",
   "metadata": {},
   "outputs": [],
   "source": [
    "first_algorithm = 'Analytical Engine'"
   ]
  },
  {
   "cell_type": "code",
   "execution_count": null,
   "id": "dcc9114c-f1c7-4ba8-a66c-99000666622a",
   "metadata": {},
   "outputs": [],
   "source": [
    "city_location = 'London'"
   ]
  },
  {
   "cell_type": "code",
   "execution_count": null,
   "id": "effd44cc-1d91-4a94-bdd8-9c44b9309f62",
   "metadata": {},
   "outputs": [],
   "source": [
    "country_location = 'England'"
   ]
  },
  {
   "cell_type": "code",
   "execution_count": null,
   "id": "730ce2e4-949a-4863-8700-656b1192f554",
   "metadata": {},
   "outputs": [],
   "source": [
    "nationality = 'British'"
   ]
  },
  {
   "cell_type": "code",
   "execution_count": null,
   "id": "819d9a20-d8ee-4bb1-b7b8-85d4ddb7334d",
   "metadata": {},
   "outputs": [],
   "source": [
    "birth_year = 1852"
   ]
  },
  {
   "cell_type": "code",
   "execution_count": null,
   "id": "a1f5db41-dbb0-45ae-9634-730fa95cf569",
   "metadata": {},
   "outputs": [],
   "source": [
    "death_year = 1852"
   ]
  },
  {
   "cell_type": "code",
   "execution_count": null,
   "id": "032fb5a4-3f23-45e8-aa5c-8b8f1a003725",
   "metadata": {},
   "outputs": [],
   "source": [
    "age_at_passing = death_year - birth_year"
   ]
  },
  {
   "cell_type": "code",
   "execution_count": null,
   "id": "4e4cb1a7-fd39-4820-b6bf-f47866a32c69",
   "metadata": {},
   "outputs": [],
   "source": [
    "year_of_publish = 1842"
   ]
  },
  {
   "cell_type": "code",
   "execution_count": null,
   "id": "6195d583-5f4a-463c-9ca7-d14f1c37ddaf",
   "metadata": {},
   "outputs": [],
   "source": [
    "print(f'Last Name: {last_name}')"
   ]
  },
  {
   "cell_type": "code",
   "execution_count": null,
   "id": "58d35257-87c4-438d-a168-edbe8f76952d",
   "metadata": {},
   "outputs": [],
   "source": [
    "print(f'First Name: {first_name}')"
   ]
  },
  {
   "cell_type": "code",
   "execution_count": null,
   "id": "7ba94d6a-4914-4eda-97b7-d07b50f64cf4",
   "metadata": {},
   "outputs": [],
   "source": [
    "print(f'Birth Year:{birth_year}')"
   ]
  },
  {
   "cell_type": "code",
   "execution_count": null,
   "id": "d2392320-7f6b-48cd-8521-49dfaa5ab6ef",
   "metadata": {},
   "outputs": [],
   "source": [
    "statement_one = f'{subject} : {first_name} {last_name} is a {nationality} {profession} born in {birth_year}.'\n",
    "print(statement_one)"
   ]
  },
  {
   "cell_type": "code",
   "execution_count": null,
   "id": "4f3cc66a-8723-40ca-94f0-7ed469351e22",
   "metadata": {},
   "outputs": [],
   "source": [
    "statement_two = f'She is commonly referred to as the {known_for}.'\n",
    "print(statement_two)"
   ]
  },
  {
   "cell_type": "code",
   "execution_count": null,
   "id": "7a79b074-2579-4b38-bae8-19a61c55d35f",
   "metadata": {},
   "outputs": [],
   "source": [
    "statement_three = f'In 1842 she published the first Algorithm< {first_algorithm}, at the age of 27.'\n",
    "print(statement_three)"
   ]
  },
  {
   "cell_type": "code",
   "execution_count": null,
   "id": "ae86eb8c-3f2d-445c-8331-838118de0cf2",
   "metadata": {},
   "outputs": [],
   "source": [
    "statement_four = f'She was a {nationality} Citizen who lived in {city_location},{county_location} until her'\\f'passing in {death_year} at the age of {age_at_passing}.'\n",
    "print(statement_four)\n"
   ]
  },
  {
   "cell_type": "code",
   "execution_count": null,
   "id": "f608ec0e-881a-4f52-8876-f42fdf9c5de5",
   "metadata": {},
   "outputs": [],
   "source": []
  }
 ],
 "metadata": {
  "kernelspec": {
   "display_name": "Python 3 (ipykernel)",
   "language": "python",
   "name": "python3"
  },
  "language_info": {
   "codemirror_mode": {
    "name": "ipython",
    "version": 3
   },
   "file_extension": ".py",
   "mimetype": "text/x-python",
   "name": "python",
   "nbconvert_exporter": "python",
   "pygments_lexer": "ipython3",
   "version": "3.9.13"
  }
 },
 "nbformat": 4,
 "nbformat_minor": 5
}
