{
 "cells": [
  {
   "cell_type": "code",
   "execution_count": 13,
   "id": "7879f41c-4b8b-43eb-94e3-dafe95218c8b",
   "metadata": {},
   "outputs": [],
   "source": [
    "farm = [\"pig\", \"cow\", \"chicken\", \"dog\", \"horse\", \"sheep\"]"
   ]
  },
  {
   "cell_type": "code",
   "execution_count": 4,
   "id": "5a7ef2ad-a52f-46ce-9f54-0626e378e054",
   "metadata": {},
   "outputs": [
    {
     "name": "stdout",
     "output_type": "stream",
     "text": [
      "RWAR!\n"
     ]
    }
   ],
   "source": [
    "if farm[0] == \"pig\":\n",
    "    print(\"RWAR!\")"
   ]
  },
  {
   "cell_type": "code",
   "execution_count": 5,
   "id": "aab9a505-d03a-4885-b9b1-fd5ce0574edc",
   "metadata": {},
   "outputs": [],
   "source": [
    "if farm[0] == \"Godzilla\":\n",
    "    print(\"RWAR!\")"
   ]
  },
  {
   "cell_type": "code",
   "execution_count": 7,
   "id": "08cdd05c-fd71-4104-8caa-db180172e736",
   "metadata": {},
   "outputs": [],
   "source": [
    "if farm[0] == \"Godzilla\":\n",
    "    print(\"RWAR!\")"
   ]
  },
  {
   "cell_type": "code",
   "execution_count": 8,
   "id": "5bc88086-67ed-481e-8fee-1f93a6921ab9",
   "metadata": {},
   "outputs": [
    {
     "ename": "SyntaxError",
     "evalue": "invalid syntax (3296566734.py, line 1)",
     "output_type": "error",
     "traceback": [
      "\u001b[1;36m  File \u001b[1;32m\"C:\\Users\\16238\\AppData\\Local\\Temp\\ipykernel_20012\\3296566734.py\"\u001b[1;36m, line \u001b[1;32m1\u001b[0m\n\u001b[1;33m    elif farm[-1] == \"Mothra\":\u001b[0m\n\u001b[1;37m    ^\u001b[0m\n\u001b[1;31mSyntaxError\u001b[0m\u001b[1;31m:\u001b[0m invalid syntax\n"
     ]
    }
   ],
   "source": [
    "elif farm[-1] == \"Mothra\":\n",
    "    print(\"SCREECH!\")"
   ]
  },
  {
   "cell_type": "code",
   "execution_count": 4,
   "id": "b12a5a7e-6b36-42a8-8979-d499e9354458",
   "metadata": {},
   "outputs": [
    {
     "ename": "IndentationError",
     "evalue": "unexpected indent (1837102580.py, line 2)",
     "output_type": "error",
     "traceback": [
      "\u001b[1;36m  File \u001b[1;32m\"C:\\Users\\16238\\AppData\\Local\\Temp\\ipykernel_1008\\1837102580.py\"\u001b[1;36m, line \u001b[1;32m2\u001b[0m\n\u001b[1;33m    print(\"Screech!\")\u001b[0m\n\u001b[1;37m    ^\u001b[0m\n\u001b[1;31mIndentationError\u001b[0m\u001b[1;31m:\u001b[0m unexpected indent\n"
     ]
    }
   ],
   "source": [
    "eliffarm[-1] ==\"Mothra\"\n",
    "    print(\"Screech!\")"
   ]
  },
  {
   "cell_type": "code",
   "execution_count": 6,
   "id": "712e0223-ce5e-460e-a4ee-eafbbb429506",
   "metadata": {},
   "outputs": [
    {
     "ename": "IndentationError",
     "evalue": "unexpected indent (2470206463.py, line 2)",
     "output_type": "error",
     "traceback": [
      "\u001b[1;36m  File \u001b[1;32m\"C:\\Users\\16238\\AppData\\Local\\Temp\\ipykernel_1008\\2470206463.py\"\u001b[1;36m, line \u001b[1;32m2\u001b[0m\n\u001b[1;33m    print(\"Screech!\")\u001b[0m\n\u001b[1;37m    ^\u001b[0m\n\u001b[1;31mIndentationError\u001b[0m\u001b[1;31m:\u001b[0m unexpected indent\n"
     ]
    }
   ],
   "source": [
    "eliffarm[-1] ==\"Mothra!\"\n",
    "    print(\"Screech!\")\n"
   ]
  },
  {
   "cell_type": "code",
   "execution_count": 7,
   "id": "cfb6163a-17ef-4280-956c-04476288de5e",
   "metadata": {},
   "outputs": [
    {
     "ename": "SyntaxError",
     "evalue": "invalid syntax (587459114.py, line 1)",
     "output_type": "error",
     "traceback": [
      "\u001b[1;36m  File \u001b[1;32m\"C:\\Users\\16238\\AppData\\Local\\Temp\\ipykernel_1008\\587459114.py\"\u001b[1;36m, line \u001b[1;32m1\u001b[0m\n\u001b[1;33m    elif farm[-1] == \"Mothra!\"\u001b[0m\n\u001b[1;37m    ^\u001b[0m\n\u001b[1;31mSyntaxError\u001b[0m\u001b[1;31m:\u001b[0m invalid syntax\n"
     ]
    }
   ],
   "source": [
    "elif farm[-1] == \"Mothra!\"\n",
    "    print(\"Screech!\")\n",
    "    "
   ]
  },
  {
   "cell_type": "code",
   "execution_count": 8,
   "id": "0f7de404-6c0d-4156-8694-eeebf552fa1a",
   "metadata": {},
   "outputs": [
    {
     "ename": "IndentationError",
     "evalue": "unexpected indent (4030175361.py, line 2)",
     "output_type": "error",
     "traceback": [
      "\u001b[1;36m  File \u001b[1;32m\"C:\\Users\\16238\\AppData\\Local\\Temp\\ipykernel_1008\\4030175361.py\"\u001b[1;36m, line \u001b[1;32m2\u001b[0m\n\u001b[1;33m    print(\"Screech!\")\u001b[0m\n\u001b[1;37m    ^\u001b[0m\n\u001b[1;31mIndentationError\u001b[0m\u001b[1;31m:\u001b[0m unexpected indent\n"
     ]
    }
   ],
   "source": [
    "eliffarm[-1] == \"Mothra!\"\n",
    "    print(\"Screech!\")"
   ]
  },
  {
   "cell_type": "code",
   "execution_count": 9,
   "id": "cf481e0c-717d-4dfa-9896-ce4f8f20cd23",
   "metadata": {},
   "outputs": [
    {
     "ename": "IndentationError",
     "evalue": "unexpected indent (3071873489.py, line 2)",
     "output_type": "error",
     "traceback": [
      "\u001b[1;36m  File \u001b[1;32m\"C:\\Users\\16238\\AppData\\Local\\Temp\\ipykernel_1008\\3071873489.py\"\u001b[1;36m, line \u001b[1;32m2\u001b[0m\n\u001b[1;33m    print(Screech!)\u001b[0m\n\u001b[1;37m    ^\u001b[0m\n\u001b[1;31mIndentationError\u001b[0m\u001b[1;31m:\u001b[0m unexpected indent\n"
     ]
    }
   ],
   "source": [
    "eliffarm[-1] == \"Mothra!\"\n",
    "    print(Screech!)"
   ]
  },
  {
   "cell_type": "code",
   "execution_count": 14,
   "id": "1adc7517-5289-40ee-b6e9-e03e78510cc6",
   "metadata": {},
   "outputs": [
    {
     "ename": "SyntaxError",
     "evalue": "invalid syntax (1261733748.py, line 1)",
     "output_type": "error",
     "traceback": [
      "\u001b[1;36m  File \u001b[1;32m\"C:\\Users\\16238\\AppData\\Local\\Temp\\ipykernel_1008\\1261733748.py\"\u001b[1;36m, line \u001b[1;32m1\u001b[0m\n\u001b[1;33m    elif farm[-1] == \"cow\"\u001b[0m\n\u001b[1;37m    ^\u001b[0m\n\u001b[1;31mSyntaxError\u001b[0m\u001b[1;31m:\u001b[0m invalid syntax\n"
     ]
    }
   ],
   "source": [
    "elif farm[-1] == \"cow\"\n",
    "print(\"Screech!\")\n"
   ]
  },
  {
   "cell_type": "code",
   "execution_count": null,
   "id": "ab12a875-3f26-49fa-b475-f5a6423d8853",
   "metadata": {},
   "outputs": [],
   "source": []
  }
 ],
 "metadata": {
  "kernelspec": {
   "display_name": "Python 3 (ipykernel)",
   "language": "python",
   "name": "python3"
  },
  "language_info": {
   "codemirror_mode": {
    "name": "ipython",
    "version": 3
   },
   "file_extension": ".py",
   "mimetype": "text/x-python",
   "name": "python",
   "nbconvert_exporter": "python",
   "pygments_lexer": "ipython3",
   "version": "3.9.13"
  }
 },
 "nbformat": 4,
 "nbformat_minor": 5
}
