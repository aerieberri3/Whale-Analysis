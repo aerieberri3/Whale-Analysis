{
 "cells": [
  {
   "cell_type": "code",
   "execution_count": 1,
   "id": "8ac83719-ba13-4b4a-9db5-17d708093488",
   "metadata": {},
   "outputs": [],
   "source": [
    "farm = [\"pig\", \"cow\", \"chicken\", \"dog\", \"horse\", \"sheep\"]"
   ]
  },
  {
   "cell_type": "code",
   "execution_count": null,
   "id": "662677b2-fd9a-43b3-9d96-d10cb842e62b",
   "metadata": {},
   "outputs": [],
   "source": [
    "print(fram"
   ]
  }
 ],
 "metadata": {
  "kernelspec": {
   "display_name": "Python 3 (ipykernel)",
   "language": "python",
   "name": "python3"
  },
  "language_info": {
   "codemirror_mode": {
    "name": "ipython",
    "version": 3
   },
   "file_extension": ".py",
   "mimetype": "text/x-python",
   "name": "python",
   "nbconvert_exporter": "python",
   "pygments_lexer": "ipython3",
   "version": "3.9.13"
  }
 },
 "nbformat": 4,
 "nbformat_minor": 5
}
