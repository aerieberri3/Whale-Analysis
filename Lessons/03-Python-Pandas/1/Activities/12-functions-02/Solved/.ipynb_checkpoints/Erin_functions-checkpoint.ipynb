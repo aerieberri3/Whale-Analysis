{
 "cells": [
  {
   "cell_type": "code",
   "execution_count": 5,
   "id": "597ac1a7-bf45-4ac6-8f7d-f334b042c259",
   "metadata": {},
   "outputs": [],
   "source": [
    "def warble(string_param):\n",
    "    return(f'{string_param}arblegarble')\n",
    "          "
   ]
  },
  {
   "cell_type": "code",
   "execution_count": 7,
   "id": "5cb83621-3635-4afc-9a56-4ffcabf1bd64",
   "metadata": {},
   "outputs": [
    {
     "name": "stdout",
     "output_type": "stream",
     "text": [
      "hello arblegarble\n"
     ]
    }
   ],
   "source": [
    "print(warble('hello '))"
   ]
  },
  {
   "cell_type": "code",
   "execution_count": 12,
   "id": "4150d042-d0ea-4910-89cb-dc7fa977db14",
   "metadata": {},
   "outputs": [],
   "source": [
    "def wibble(string_param):\n",
    "    return(f'wibbly {string_param}')"
   ]
  },
  {
   "cell_type": "code",
   "execution_count": 13,
   "id": "87ad5516-8203-44e5-ae85-e613a9e5d64e",
   "metadata": {},
   "outputs": [
    {
     "name": "stdout",
     "output_type": "stream",
     "text": [
      "wibbly bibbly\n"
     ]
    }
   ],
   "source": [
    "print(wibble ('bibbly'))"
   ]
  },
  {
   "cell_type": "code",
   "execution_count": 14,
   "id": "a75b29f8-5829-4d51-adc0-3decf29f76a6",
   "metadata": {},
   "outputs": [],
   "source": [
    "def print_sum(num_1,num_2):\n",
    "    sum=num_1+num_2\n",
    "    print(sum)"
   ]
  },
  {
   "cell_type": "code",
   "execution_count": 15,
   "id": "26944736-80a0-444f-a3c6-a6380be1c0fb",
   "metadata": {},
   "outputs": [],
   "source": [
    "def return_sum(num_1,num_2):\n",
    "    sum=num_1+num_2\n",
    "    return sum"
   ]
  },
  {
   "cell_type": "code",
   "execution_count": 17,
   "id": "b1e2f499-455a-4271-8f18-baac068e9b99",
   "metadata": {},
   "outputs": [],
   "source": [
    "def triple_sum(num_1,num_2,num_3):\n",
    "    sum=num_1+num_2+num_3\n",
    "    return sum"
   ]
  },
  {
   "cell_type": "code",
   "execution_count": 18,
   "id": "3b4bd266-0251-42e3-a84e-81fd615d8611",
   "metadata": {},
   "outputs": [],
   "source": [
    "def dance_party(string_param):\n",
    "    print(\"dance!\")\n",
    "    print(string_param)\n",
    "    print(wibble(warble(string_param)))"
   ]
  },
  {
   "cell_type": "code",
   "execution_count": 21,
   "id": "6dfcc837-dff0-44fd-9ac1-f1372ca83354",
   "metadata": {},
   "outputs": [
    {
     "name": "stdout",
     "output_type": "stream",
     "text": [
      "dance!\n",
      "Erin \n",
      "wibbly Erin arblegarble\n"
     ]
    }
   ],
   "source": [
    "dance_party('Erin ')"
   ]
  },
  {
   "cell_type": "code",
   "execution_count": null,
   "id": "5d6aadfd-3a7e-4054-bc46-3fd86f38243c",
   "metadata": {},
   "outputs": [],
   "source": []
  }
 ],
 "metadata": {
  "kernelspec": {
   "display_name": "Python 3 (ipykernel)",
   "language": "python",
   "name": "python3"
  },
  "language_info": {
   "codemirror_mode": {
    "name": "ipython",
    "version": 3
   },
   "file_extension": ".py",
   "mimetype": "text/x-python",
   "name": "python",
   "nbconvert_exporter": "python",
   "pygments_lexer": "ipython3",
   "version": "3.9.13"
  }
 },
 "nbformat": 4,
 "nbformat_minor": 5
}
