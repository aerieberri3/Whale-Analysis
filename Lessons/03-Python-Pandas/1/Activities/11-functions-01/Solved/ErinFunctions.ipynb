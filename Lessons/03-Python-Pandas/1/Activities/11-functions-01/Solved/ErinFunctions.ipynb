{
 "cells": [
  {
   "cell_type": "code",
   "execution_count": 14,
   "id": "6fa6604b-d067-441f-93db-1465c12f7ebc",
   "metadata": {},
   "outputs": [],
   "source": [
    "def having_fun():\n",
    "    print(\"Functions are FUN!\")\n"
   ]
  },
  {
   "cell_type": "code",
   "execution_count": 15,
   "id": "7625c071-08b0-4c9b-b365-de7351b2aa31",
   "metadata": {},
   "outputs": [],
   "source": [
    "def thirty_seven():\n",
    "    sum = 18 + 19\n",
    "    print(sum)"
   ]
  },
  {
   "cell_type": "code",
   "execution_count": 16,
   "id": "6c30e673-3d22-4966-a200-033ca722b368",
   "metadata": {},
   "outputs": [
    {
     "name": "stdout",
     "output_type": "stream",
     "text": [
      "Functions are FUN!\n",
      "37\n"
     ]
    }
   ],
   "source": [
    "having_fun()\n",
    "thirty_seven()"
   ]
  },
  {
   "cell_type": "code",
   "execution_count": 17,
   "id": "3c129372-f370-47ad-99ed-a617a6955461",
   "metadata": {},
   "outputs": [],
   "source": [
    "def hello(string_param):\n",
    "    print(string_param)"
   ]
  },
  {
   "cell_type": "code",
   "execution_count": 18,
   "id": "1d0c5215-109b-48e3-9e64-7631aaadddf4",
   "metadata": {},
   "outputs": [
    {
     "name": "stdout",
     "output_type": "stream",
     "text": [
      "Hello World!\n"
     ]
    }
   ],
   "source": [
    "hello(\"Hello World!\")"
   ]
  },
  {
   "cell_type": "code",
   "execution_count": 19,
   "id": "9dff0a85-5756-4fbe-9493-b5bdecb594f5",
   "metadata": {},
   "outputs": [],
   "source": [
    "def user_input():\n",
    "    user_name=input('What is your name?')\n",
    "    print(user_name)"
   ]
  },
  {
   "cell_type": "code",
   "execution_count": 20,
   "id": "e63febe8-4b8d-4c61-8c43-c086e6bc9071",
   "metadata": {},
   "outputs": [
    {
     "name": "stdin",
     "output_type": "stream",
     "text": [
      "What is your name? Erin\n"
     ]
    },
    {
     "name": "stdout",
     "output_type": "stream",
     "text": [
      "Erin\n"
     ]
    }
   ],
   "source": [
    "user_input()"
   ]
  },
  {
   "cell_type": "code",
   "execution_count": 21,
   "id": "02060bf4-ae4c-4e10-99d1-06bea49a23f0",
   "metadata": {},
   "outputs": [],
   "source": [
    "def good_day():\n",
    "    response=input('Are you having a nice day?')\n",
    "    print(response)"
   ]
  },
  {
   "cell_type": "code",
   "execution_count": 22,
   "id": "50f3725d-5854-45e0-9c51-7d57bc2fa86b",
   "metadata": {},
   "outputs": [
    {
     "name": "stdin",
     "output_type": "stream",
     "text": [
      "Are you having a nice day? Yes\n"
     ]
    },
    {
     "name": "stdout",
     "output_type": "stream",
     "text": [
      "Yes\n"
     ]
    }
   ],
   "source": [
    "good_day()"
   ]
  },
  {
   "cell_type": "code",
   "execution_count": 23,
   "id": "82fdb31b-05c1-429b-887b-62026bcb9df4",
   "metadata": {},
   "outputs": [],
   "source": [
    "def average(num1,num_2):\n",
    "    avg_calc=num_1=num_2/2\n",
    "    return avg_calc"
   ]
  },
  {
   "cell_type": "code",
   "execution_count": 34,
   "id": "82dbf28e-a867-4715-a654-7cf6225d447d",
   "metadata": {},
   "outputs": [],
   "source": [
    "calculated_average = average(.90,.10)"
   ]
  },
  {
   "cell_type": "code",
   "execution_count": 35,
   "id": "2b7a6311-f02b-421d-9e23-ba125ddae62b",
   "metadata": {},
   "outputs": [
    {
     "name": "stdout",
     "output_type": "stream",
     "text": [
      "Calculated Average:0.05\n"
     ]
    }
   ],
   "source": [
    "print(f'Calculated Average:{calculated_average}')"
   ]
  },
  {
   "cell_type": "code",
   "execution_count": null,
   "id": "04fda4b4-3c33-4714-bced-8d3a1c11d24e",
   "metadata": {},
   "outputs": [],
   "source": []
  }
 ],
 "metadata": {
  "kernelspec": {
   "display_name": "Python 3 (ipykernel)",
   "language": "python",
   "name": "python3"
  },
  "language_info": {
   "codemirror_mode": {
    "name": "ipython",
    "version": 3
   },
   "file_extension": ".py",
   "mimetype": "text/x-python",
   "name": "python",
   "nbconvert_exporter": "python",
   "pygments_lexer": "ipython3",
   "version": "3.9.13"
  }
 },
 "nbformat": 4,
 "nbformat_minor": 5
}
