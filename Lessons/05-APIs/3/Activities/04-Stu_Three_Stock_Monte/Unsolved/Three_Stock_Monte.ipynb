{
 "cells": [
  {
   "cell_type": "markdown",
   "metadata": {},
   "source": [
    "## Three Stock Monte\n",
    "\n",
    "This exercise tests your ability to retrieve stock price data using the Alpaca API and simulate multiple portfolio compositions using Monte Carlo Simulation."
   ]
  },
  {
   "cell_type": "markdown",
   "metadata": {},
   "source": [
    "### Import Dependencies"
   ]
  },
  {
   "cell_type": "code",
   "execution_count": 14,
   "metadata": {
    "tags": []
   },
   "outputs": [],
   "source": [
    "# Import libraries and dependencies\n",
    "import os\n",
    "import pandas as pd\n",
    "import alpaca_trade_api as tradeapi\n",
    "from MCForecastTools import MCSimulation"
   ]
  },
  {
   "cell_type": "code",
   "execution_count": 15,
   "metadata": {},
   "outputs": [
    {
     "data": {
      "text/plain": [
       "True"
      ]
     },
     "execution_count": 15,
     "metadata": {},
     "output_type": "execute_result"
    }
   ],
   "source": [
    "# Load .env enviroment variables\n",
    "from dotenv import load_dotenv\n",
    "load_dotenv()"
   ]
  },
  {
   "cell_type": "code",
   "execution_count": 16,
   "metadata": {
    "tags": []
   },
   "outputs": [],
   "source": [
    "# Set Alpaca API key and secret\n",
    "alpaca_api_key = os.getenv(\"ALPACA_API_KEY\")\n",
    "alpaca_secret_key = os.getenv(\"ALPACA_SECRET_KEY\")\n",
    "\n",
    "api = tradeapi.REST(\n",
    "    alpaca_api_key,\n",
    "    alpaca_secret_key,\n",
    "    api_version = \"v2\"\n",
    ")"
   ]
  },
  {
   "cell_type": "markdown",
   "metadata": {},
   "source": [
    "### Get Past ~4 Year's Worth of Stock Price Data via Alpaca API Call"
   ]
  },
  {
   "cell_type": "code",
   "execution_count": 17,
   "metadata": {},
   "outputs": [
    {
     "data": {
      "text/html": [
       "<div>\n",
       "<style scoped>\n",
       "    .dataframe tbody tr th:only-of-type {\n",
       "        vertical-align: middle;\n",
       "    }\n",
       "\n",
       "    .dataframe tbody tr th {\n",
       "        vertical-align: top;\n",
       "    }\n",
       "\n",
       "    .dataframe thead th {\n",
       "        text-align: right;\n",
       "    }\n",
       "</style>\n",
       "<table border=\"1\" class=\"dataframe\">\n",
       "  <thead>\n",
       "    <tr style=\"text-align: right;\">\n",
       "      <th></th>\n",
       "      <th>open</th>\n",
       "      <th>high</th>\n",
       "      <th>low</th>\n",
       "      <th>close</th>\n",
       "      <th>volume</th>\n",
       "      <th>trade_count</th>\n",
       "      <th>vwap</th>\n",
       "      <th>symbol</th>\n",
       "    </tr>\n",
       "    <tr>\n",
       "      <th>timestamp</th>\n",
       "      <th></th>\n",
       "      <th></th>\n",
       "      <th></th>\n",
       "      <th></th>\n",
       "      <th></th>\n",
       "      <th></th>\n",
       "      <th></th>\n",
       "      <th></th>\n",
       "    </tr>\n",
       "  </thead>\n",
       "  <tbody>\n",
       "    <tr>\n",
       "      <th>2021-04-26 04:00:00+00:00</th>\n",
       "      <td>55.62</td>\n",
       "      <td>56.285</td>\n",
       "      <td>55.44</td>\n",
       "      <td>55.68</td>\n",
       "      <td>16034091</td>\n",
       "      <td>92919</td>\n",
       "      <td>55.853625</td>\n",
       "      <td>XOM</td>\n",
       "    </tr>\n",
       "    <tr>\n",
       "      <th>2021-04-27 04:00:00+00:00</th>\n",
       "      <td>56.01</td>\n",
       "      <td>56.630</td>\n",
       "      <td>55.81</td>\n",
       "      <td>56.41</td>\n",
       "      <td>19125056</td>\n",
       "      <td>115395</td>\n",
       "      <td>56.197130</td>\n",
       "      <td>XOM</td>\n",
       "    </tr>\n",
       "    <tr>\n",
       "      <th>2021-04-28 04:00:00+00:00</th>\n",
       "      <td>56.88</td>\n",
       "      <td>58.460</td>\n",
       "      <td>56.79</td>\n",
       "      <td>58.11</td>\n",
       "      <td>24647373</td>\n",
       "      <td>150114</td>\n",
       "      <td>58.000608</td>\n",
       "      <td>XOM</td>\n",
       "    </tr>\n",
       "    <tr>\n",
       "      <th>2021-04-29 04:00:00+00:00</th>\n",
       "      <td>58.92</td>\n",
       "      <td>59.480</td>\n",
       "      <td>58.15</td>\n",
       "      <td>58.94</td>\n",
       "      <td>26974804</td>\n",
       "      <td>156211</td>\n",
       "      <td>58.805819</td>\n",
       "      <td>XOM</td>\n",
       "    </tr>\n",
       "    <tr>\n",
       "      <th>2021-04-30 04:00:00+00:00</th>\n",
       "      <td>58.33</td>\n",
       "      <td>58.890</td>\n",
       "      <td>57.16</td>\n",
       "      <td>57.24</td>\n",
       "      <td>30431824</td>\n",
       "      <td>161270</td>\n",
       "      <td>57.741337</td>\n",
       "      <td>XOM</td>\n",
       "    </tr>\n",
       "  </tbody>\n",
       "</table>\n",
       "</div>"
      ],
      "text/plain": [
       "                            open    high    low  close    volume  trade_count  \\\n",
       "timestamp                                                                       \n",
       "2021-04-26 04:00:00+00:00  55.62  56.285  55.44  55.68  16034091        92919   \n",
       "2021-04-27 04:00:00+00:00  56.01  56.630  55.81  56.41  19125056       115395   \n",
       "2021-04-28 04:00:00+00:00  56.88  58.460  56.79  58.11  24647373       150114   \n",
       "2021-04-29 04:00:00+00:00  58.92  59.480  58.15  58.94  26974804       156211   \n",
       "2021-04-30 04:00:00+00:00  58.33  58.890  57.16  57.24  30431824       161270   \n",
       "\n",
       "                                vwap symbol  \n",
       "timestamp                                    \n",
       "2021-04-26 04:00:00+00:00  55.853625    XOM  \n",
       "2021-04-27 04:00:00+00:00  56.197130    XOM  \n",
       "2021-04-28 04:00:00+00:00  58.000608    XOM  \n",
       "2021-04-29 04:00:00+00:00  58.805819    XOM  \n",
       "2021-04-30 04:00:00+00:00  57.741337    XOM  "
      ]
     },
     "execution_count": 17,
     "metadata": {},
     "output_type": "execute_result"
    }
   ],
   "source": [
    "# Set timeframe to \"1Day\"\n",
    "timeframe = \"1Day\"\n",
    "\n",
    "# Set start and end datetimes between now and 4 years ago.\n",
    "start_date = pd.Timestamp(\"2017-05-01\", tz=\"America/New_York\").isoformat()\n",
    "end_date = pd.Timestamp(\"2021-05-01\", tz=\"America/New_York\").isoformat()\n",
    "\n",
    "# Set the ticker information\n",
    "tickers = [\"T\",\"NKE\",\"XOM\"]\n",
    "\n",
    "# Get 4 year's worth of historical price data\n",
    "# HINT: Set \"limit\" to at least 10000 so all ticker rows are captured from get_bars()\n",
    "# YOUR CODE HERE!\n",
    "df_ticker = api.get_bars(\n",
    "    tickers,\n",
    "    timeframe,\n",
    "    start=start_date,\n",
    "    end=end_date\n",
    ").df\n",
    "\n",
    "\n",
    "# Display sample data\n",
    "df_ticker.tail()"
   ]
  },
  {
   "cell_type": "markdown",
   "metadata": {},
   "source": [
    "> Note: We're going to simulate five years of growth below, and so we might want to pull at least five years of data in order to do that. But we pulled four because of Alpaca's rate limits--we can only pull 1,000 rows per ticker at a time (approximately four years of data, with 252 tradable days per year). If we pull data with repeated calls in a `for` loop, however, we can get quite a few more years than what we've got above.  "
   ]
  },
  {
   "cell_type": "code",
   "execution_count": 18,
   "metadata": {},
   "outputs": [
    {
     "data": {
      "text/html": [
       "<div>\n",
       "<style scoped>\n",
       "    .dataframe tbody tr th:only-of-type {\n",
       "        vertical-align: middle;\n",
       "    }\n",
       "\n",
       "    .dataframe tbody tr th {\n",
       "        vertical-align: top;\n",
       "    }\n",
       "\n",
       "    .dataframe thead tr th {\n",
       "        text-align: left;\n",
       "    }\n",
       "\n",
       "    .dataframe thead tr:last-of-type th {\n",
       "        text-align: right;\n",
       "    }\n",
       "</style>\n",
       "<table border=\"1\" class=\"dataframe\">\n",
       "  <thead>\n",
       "    <tr>\n",
       "      <th></th>\n",
       "      <th colspan=\"7\" halign=\"left\">T</th>\n",
       "      <th colspan=\"7\" halign=\"left\">NKE</th>\n",
       "      <th colspan=\"7\" halign=\"left\">XOM</th>\n",
       "    </tr>\n",
       "    <tr>\n",
       "      <th></th>\n",
       "      <th>open</th>\n",
       "      <th>high</th>\n",
       "      <th>low</th>\n",
       "      <th>close</th>\n",
       "      <th>volume</th>\n",
       "      <th>trade_count</th>\n",
       "      <th>vwap</th>\n",
       "      <th>open</th>\n",
       "      <th>high</th>\n",
       "      <th>low</th>\n",
       "      <th>...</th>\n",
       "      <th>volume</th>\n",
       "      <th>trade_count</th>\n",
       "      <th>vwap</th>\n",
       "      <th>open</th>\n",
       "      <th>high</th>\n",
       "      <th>low</th>\n",
       "      <th>close</th>\n",
       "      <th>volume</th>\n",
       "      <th>trade_count</th>\n",
       "      <th>vwap</th>\n",
       "    </tr>\n",
       "    <tr>\n",
       "      <th>timestamp</th>\n",
       "      <th></th>\n",
       "      <th></th>\n",
       "      <th></th>\n",
       "      <th></th>\n",
       "      <th></th>\n",
       "      <th></th>\n",
       "      <th></th>\n",
       "      <th></th>\n",
       "      <th></th>\n",
       "      <th></th>\n",
       "      <th></th>\n",
       "      <th></th>\n",
       "      <th></th>\n",
       "      <th></th>\n",
       "      <th></th>\n",
       "      <th></th>\n",
       "      <th></th>\n",
       "      <th></th>\n",
       "      <th></th>\n",
       "      <th></th>\n",
       "      <th></th>\n",
       "    </tr>\n",
       "  </thead>\n",
       "  <tbody>\n",
       "    <tr>\n",
       "      <th>2017-05-01 04:00:00+00:00</th>\n",
       "      <td>39.68</td>\n",
       "      <td>39.70</td>\n",
       "      <td>39.06</td>\n",
       "      <td>39.10</td>\n",
       "      <td>24750447</td>\n",
       "      <td>95238</td>\n",
       "      <td>39.278779</td>\n",
       "      <td>55.43</td>\n",
       "      <td>55.45</td>\n",
       "      <td>54.98</td>\n",
       "      <td>...</td>\n",
       "      <td>4881442</td>\n",
       "      <td>30491</td>\n",
       "      <td>55.201737</td>\n",
       "      <td>81.51</td>\n",
       "      <td>82.2100</td>\n",
       "      <td>81.48</td>\n",
       "      <td>82.06</td>\n",
       "      <td>8664579</td>\n",
       "      <td>49226</td>\n",
       "      <td>81.941004</td>\n",
       "    </tr>\n",
       "    <tr>\n",
       "      <th>2017-05-02 04:00:00+00:00</th>\n",
       "      <td>39.14</td>\n",
       "      <td>39.22</td>\n",
       "      <td>38.88</td>\n",
       "      <td>38.95</td>\n",
       "      <td>24852467</td>\n",
       "      <td>86237</td>\n",
       "      <td>38.996448</td>\n",
       "      <td>55.12</td>\n",
       "      <td>55.16</td>\n",
       "      <td>54.79</td>\n",
       "      <td>...</td>\n",
       "      <td>7363885</td>\n",
       "      <td>41589</td>\n",
       "      <td>54.967165</td>\n",
       "      <td>82.14</td>\n",
       "      <td>82.5900</td>\n",
       "      <td>81.90</td>\n",
       "      <td>82.05</td>\n",
       "      <td>9102893</td>\n",
       "      <td>54234</td>\n",
       "      <td>82.197909</td>\n",
       "    </tr>\n",
       "    <tr>\n",
       "      <th>2017-05-03 04:00:00+00:00</th>\n",
       "      <td>38.94</td>\n",
       "      <td>38.98</td>\n",
       "      <td>38.15</td>\n",
       "      <td>38.40</td>\n",
       "      <td>33743554</td>\n",
       "      <td>113920</td>\n",
       "      <td>38.423685</td>\n",
       "      <td>55.17</td>\n",
       "      <td>55.30</td>\n",
       "      <td>54.40</td>\n",
       "      <td>...</td>\n",
       "      <td>9486619</td>\n",
       "      <td>48477</td>\n",
       "      <td>54.622933</td>\n",
       "      <td>81.97</td>\n",
       "      <td>83.0699</td>\n",
       "      <td>81.91</td>\n",
       "      <td>82.70</td>\n",
       "      <td>10289447</td>\n",
       "      <td>57309</td>\n",
       "      <td>82.625679</td>\n",
       "    </tr>\n",
       "    <tr>\n",
       "      <th>2017-05-04 04:00:00+00:00</th>\n",
       "      <td>38.41</td>\n",
       "      <td>38.41</td>\n",
       "      <td>37.63</td>\n",
       "      <td>38.01</td>\n",
       "      <td>31450002</td>\n",
       "      <td>118191</td>\n",
       "      <td>37.965109</td>\n",
       "      <td>54.68</td>\n",
       "      <td>54.83</td>\n",
       "      <td>54.20</td>\n",
       "      <td>...</td>\n",
       "      <td>6830628</td>\n",
       "      <td>39260</td>\n",
       "      <td>54.501544</td>\n",
       "      <td>82.29</td>\n",
       "      <td>82.3600</td>\n",
       "      <td>81.40</td>\n",
       "      <td>81.64</td>\n",
       "      <td>16165093</td>\n",
       "      <td>86289</td>\n",
       "      <td>81.729800</td>\n",
       "    </tr>\n",
       "    <tr>\n",
       "      <th>2017-05-05 04:00:00+00:00</th>\n",
       "      <td>38.08</td>\n",
       "      <td>38.71</td>\n",
       "      <td>38.03</td>\n",
       "      <td>38.56</td>\n",
       "      <td>21829853</td>\n",
       "      <td>82070</td>\n",
       "      <td>38.424403</td>\n",
       "      <td>54.41</td>\n",
       "      <td>54.50</td>\n",
       "      <td>53.56</td>\n",
       "      <td>...</td>\n",
       "      <td>13379949</td>\n",
       "      <td>57959</td>\n",
       "      <td>53.889567</td>\n",
       "      <td>81.63</td>\n",
       "      <td>82.2350</td>\n",
       "      <td>81.61</td>\n",
       "      <td>82.02</td>\n",
       "      <td>10212004</td>\n",
       "      <td>59397</td>\n",
       "      <td>81.932657</td>\n",
       "    </tr>\n",
       "  </tbody>\n",
       "</table>\n",
       "<p>5 rows × 21 columns</p>\n",
       "</div>"
      ],
      "text/plain": [
       "                               T                                             \\\n",
       "                            open   high    low  close    volume trade_count   \n",
       "timestamp                                                                     \n",
       "2017-05-01 04:00:00+00:00  39.68  39.70  39.06  39.10  24750447       95238   \n",
       "2017-05-02 04:00:00+00:00  39.14  39.22  38.88  38.95  24852467       86237   \n",
       "2017-05-03 04:00:00+00:00  38.94  38.98  38.15  38.40  33743554      113920   \n",
       "2017-05-04 04:00:00+00:00  38.41  38.41  37.63  38.01  31450002      118191   \n",
       "2017-05-05 04:00:00+00:00  38.08  38.71  38.03  38.56  21829853       82070   \n",
       "\n",
       "                                        NKE                ...            \\\n",
       "                                vwap   open   high    low  ...    volume   \n",
       "timestamp                                                  ...             \n",
       "2017-05-01 04:00:00+00:00  39.278779  55.43  55.45  54.98  ...   4881442   \n",
       "2017-05-02 04:00:00+00:00  38.996448  55.12  55.16  54.79  ...   7363885   \n",
       "2017-05-03 04:00:00+00:00  38.423685  55.17  55.30  54.40  ...   9486619   \n",
       "2017-05-04 04:00:00+00:00  37.965109  54.68  54.83  54.20  ...   6830628   \n",
       "2017-05-05 04:00:00+00:00  38.424403  54.41  54.50  53.56  ...  13379949   \n",
       "\n",
       "                                                    XOM                  \\\n",
       "                          trade_count       vwap   open     high    low   \n",
       "timestamp                                                                 \n",
       "2017-05-01 04:00:00+00:00       30491  55.201737  81.51  82.2100  81.48   \n",
       "2017-05-02 04:00:00+00:00       41589  54.967165  82.14  82.5900  81.90   \n",
       "2017-05-03 04:00:00+00:00       48477  54.622933  81.97  83.0699  81.91   \n",
       "2017-05-04 04:00:00+00:00       39260  54.501544  82.29  82.3600  81.40   \n",
       "2017-05-05 04:00:00+00:00       57959  53.889567  81.63  82.2350  81.61   \n",
       "\n",
       "                                                                   \n",
       "                           close    volume trade_count       vwap  \n",
       "timestamp                                                          \n",
       "2017-05-01 04:00:00+00:00  82.06   8664579       49226  81.941004  \n",
       "2017-05-02 04:00:00+00:00  82.05   9102893       54234  82.197909  \n",
       "2017-05-03 04:00:00+00:00  82.70  10289447       57309  82.625679  \n",
       "2017-05-04 04:00:00+00:00  81.64  16165093       86289  81.729800  \n",
       "2017-05-05 04:00:00+00:00  82.02  10212004       59397  81.932657  \n",
       "\n",
       "[5 rows x 21 columns]"
      ]
     },
     "execution_count": 18,
     "metadata": {},
     "output_type": "execute_result"
    }
   ],
   "source": [
    "# Reorganize the DataFrame\n",
    "# Separate ticker data\n",
    "T = df_ticker[df_ticker[\"symbol\"]==\"T\"].drop(\"symbol\", axis=1)\n",
    "NKE = df_ticker[df_ticker[\"symbol\"]==\"NKE\"].drop(\"symbol\", axis=1)\n",
    "XOM = df_ticker[df_ticker[\"symbol\"]==\"XOM\"].drop(\"symbol\", axis=1)\n",
    "\n",
    "# Concatenate the ticker DataFrames\n",
    "df_ticker = pd.concat([T, NKE, XOM], axis=1, keys=[\"T\",\"NKE\",\"XOM\"])\n",
    "\n",
    "# Display sample data\n",
    "df_ticker.head()"
   ]
  },
  {
   "cell_type": "markdown",
   "metadata": {},
   "source": [
    "### Simulate five year portfolio growth with evenly-distributed stock investments"
   ]
  },
  {
   "cell_type": "code",
   "execution_count": 19,
   "metadata": {},
   "outputs": [
    {
     "ename": "NameError",
     "evalue": "name 'MC_even_dist' is not defined",
     "output_type": "error",
     "traceback": [
      "\u001b[1;31m---------------------------------------------------------------------------\u001b[0m",
      "\u001b[1;31mNameError\u001b[0m                                 Traceback (most recent call last)",
      "\u001b[1;32m~\\AppData\\Local\\Temp\\ipykernel_18176\\1025408320.py\u001b[0m in \u001b[0;36m<module>\u001b[1;34m\u001b[0m\n\u001b[0;32m      9\u001b[0m \u001b[1;33m\u001b[0m\u001b[0m\n\u001b[0;32m     10\u001b[0m \u001b[1;31m# Print the simulation input data\u001b[0m\u001b[1;33m\u001b[0m\u001b[1;33m\u001b[0m\u001b[0m\n\u001b[1;32m---> 11\u001b[1;33m \u001b[0mMC_even_dist\u001b[0m\u001b[1;33m.\u001b[0m\u001b[0mportfolio_data\u001b[0m\u001b[1;33m.\u001b[0m\u001b[0mhead\u001b[0m\u001b[1;33m(\u001b[0m\u001b[1;33m)\u001b[0m\u001b[1;33m\u001b[0m\u001b[1;33m\u001b[0m\u001b[0m\n\u001b[0m",
      "\u001b[1;31mNameError\u001b[0m: name 'MC_even_dist' is not defined"
     ]
    }
   ],
   "source": [
    "# Configure a Monte Carlo simulation to forecast five years cumulative returns\n",
    "# YOUR CODE HERE!\n",
    "MC_fiveyear = MCSimulation(\n",
    "    portfolio_data = df_ticker,\n",
    "    weights = [.60,.40],\n",
    "    num_simulation = 500,\n",
    "    num_trading_days = 252*5\n",
    ")\n",
    "\n",
    "# Print the simulation input data\n",
    "MC_even_dist.portfolio_data.head()"
   ]
  },
  {
   "cell_type": "code",
   "execution_count": null,
   "metadata": {},
   "outputs": [],
   "source": [
    "# Run a Monte Carlo simulation to forecast five years cumulative returns\n",
    "# YOUR CODE HERE!\n"
   ]
  },
  {
   "cell_type": "code",
   "execution_count": null,
   "metadata": {},
   "outputs": [],
   "source": [
    "# Plot simulation outcomes\n",
    "# YOUR CODE HERE!"
   ]
  },
  {
   "cell_type": "code",
   "execution_count": null,
   "metadata": {},
   "outputs": [],
   "source": [
    "# Plot probability distribution and confidence intervals\n",
    "# YOUR CODE HERE!"
   ]
  },
  {
   "cell_type": "code",
   "execution_count": null,
   "metadata": {},
   "outputs": [],
   "source": [
    "# Fetch summary statistics from the Monte Carlo simulation results\n",
    "# YOUR CODE HERE!\n",
    "\n",
    "# Print summary statistics\n",
    "# YOUR CODE HERE!"
   ]
  },
  {
   "cell_type": "code",
   "execution_count": null,
   "metadata": {},
   "outputs": [],
   "source": [
    "# Use the lower and upper `95%` confidence intervals to calculate the range of the possible outcomes of our $15,000 investments stocks\n",
    "# YOUR CODE HERE!\n",
    "\n",
    "# Print results\n",
    "# YOUR CODE HERE!"
   ]
  },
  {
   "cell_type": "markdown",
   "metadata": {},
   "source": [
    "### Simulate five year portfolio growth with 60% AT&T stock"
   ]
  },
  {
   "cell_type": "code",
   "execution_count": null,
   "metadata": {},
   "outputs": [],
   "source": [
    "# Configure a Monte Carlo simulation to forecast five years cumulative returns with 60% AT&T stock\n",
    "# YOUR CODE HERE!\n",
    "\n",
    "# Print the simulation input data\n",
    "MC_att.portfolio_data.head()"
   ]
  },
  {
   "cell_type": "code",
   "execution_count": null,
   "metadata": {},
   "outputs": [],
   "source": [
    "# Run a Monte Carlo simulation to forecast five years cumulative returns with 60% AT&T stock\n",
    "# YOUR CODE HERE!"
   ]
  },
  {
   "cell_type": "code",
   "execution_count": null,
   "metadata": {},
   "outputs": [],
   "source": [
    "# Plot simulation outcomes\n",
    "# YOUR CODE HERE!"
   ]
  },
  {
   "cell_type": "code",
   "execution_count": null,
   "metadata": {},
   "outputs": [],
   "source": [
    "# Plot probability distribution and confidence intervals\n",
    "# YOUR CODE HERE!"
   ]
  },
  {
   "cell_type": "code",
   "execution_count": null,
   "metadata": {},
   "outputs": [],
   "source": [
    "# Fetch summary statistics from the Monte Carlo simulation results\n",
    "# YOUR CODE HERE!\n",
    "\n",
    "# Print summary statistics\n",
    "# YOUR CODE HERE!"
   ]
  },
  {
   "cell_type": "code",
   "execution_count": null,
   "metadata": {},
   "outputs": [],
   "source": [
    "# Use the lower and upper `95%` confidence intervals to calculate the range of the possible outcomes of our $15,000 investments\n",
    "# YOUR CODE HERE!\n",
    "\n",
    "# Print results\n",
    "# YOUR CODE HERE!"
   ]
  },
  {
   "cell_type": "markdown",
   "metadata": {},
   "source": [
    "### Simulate five year portfolio growth with 60% Nike stock"
   ]
  },
  {
   "cell_type": "code",
   "execution_count": null,
   "metadata": {},
   "outputs": [],
   "source": [
    "# Configure a Monte Carlo simulation to forecast five years cumulative returns with 60% Nike stock\n",
    "# YOUR CODE HERE!\n",
    "\n",
    "# Printing the simulation input data\n",
    "MC_nike.portfolio_data.head()"
   ]
  },
  {
   "cell_type": "code",
   "execution_count": null,
   "metadata": {},
   "outputs": [],
   "source": [
    "# Run a Monte Carlo simulation to forecast five years cumulative returns with 60% Nike stock\n",
    "# YOUR CODE HERE!"
   ]
  },
  {
   "cell_type": "code",
   "execution_count": null,
   "metadata": {},
   "outputs": [],
   "source": [
    "# Plot simulation outcomes\n",
    "# YOUR CODE HERE!"
   ]
  },
  {
   "cell_type": "code",
   "execution_count": null,
   "metadata": {},
   "outputs": [],
   "source": [
    "# Plot probability distribution and confidence intervals\n",
    "# YOUR CODE HERE!"
   ]
  },
  {
   "cell_type": "code",
   "execution_count": null,
   "metadata": {},
   "outputs": [],
   "source": [
    "# Fetch summary statistics from the Monte Carlo simulation results\n",
    "# YOUR CODE HERE!\n",
    "\n",
    "# Print summary statistics\n",
    "# YOUR CODE HERE!"
   ]
  },
  {
   "cell_type": "code",
   "execution_count": null,
   "metadata": {},
   "outputs": [],
   "source": [
    "# Use the lower and upper `95%` confidence intervals to calculate the range of the possible outcomes of our $15,000 investments\n",
    "# YOUR CODE HERE!\n",
    "\n",
    "# Print results\n",
    "# YOUR CODE HERE!"
   ]
  },
  {
   "cell_type": "markdown",
   "metadata": {},
   "source": [
    "### Simulate five year portfolio growth with 60% Exxon stock"
   ]
  },
  {
   "cell_type": "code",
   "execution_count": null,
   "metadata": {},
   "outputs": [],
   "source": [
    "# Configuring a Monte Carlo simulation to forecast five years cumulative returns\n",
    "# YOUR CODE HERE!\n",
    "\n",
    "# Printing the simulation input data\n",
    "MC_exxon.portfolio_data"
   ]
  },
  {
   "cell_type": "code",
   "execution_count": null,
   "metadata": {},
   "outputs": [],
   "source": [
    "# Run a Monte Carlo simulation to forecast five years cumulative returns with 60% Exxon stock\n",
    "# YOUR CODE HERE!"
   ]
  },
  {
   "cell_type": "code",
   "execution_count": null,
   "metadata": {},
   "outputs": [],
   "source": [
    "# Plot simulation outcomes\n",
    "# YOUR CODE HERE!"
   ]
  },
  {
   "cell_type": "code",
   "execution_count": null,
   "metadata": {},
   "outputs": [],
   "source": [
    "# Plot probability distribution and confidence intervals\n",
    "# YOUR CODE HERE!"
   ]
  },
  {
   "cell_type": "code",
   "execution_count": null,
   "metadata": {},
   "outputs": [],
   "source": [
    "# Fetch summary statistics from the Monte Carlo simulation results\n",
    "# YOUR CODE HERE!\n",
    "\n",
    "# Print summary statistics\n",
    "# YOUR CODE HERE!"
   ]
  },
  {
   "cell_type": "code",
   "execution_count": null,
   "metadata": {},
   "outputs": [],
   "source": [
    "# Use the lower and upper `95%` confidence intervals to calculate the range of the possible outcomes of our $15,000 investments\n",
    "# YOUR CODE HERE!\n",
    "\n",
    "# Print results\n",
    "# YOUR CODE HERE!"
   ]
  },
  {
   "cell_type": "markdown",
   "metadata": {},
   "source": [
    "### Summarize findings across all 4 simulations"
   ]
  },
  {
   "cell_type": "markdown",
   "metadata": {},
   "source": [
    "YOUR ANSWER HERE!"
   ]
  },
  {
   "cell_type": "code",
   "execution_count": null,
   "metadata": {},
   "outputs": [],
   "source": []
  }
 ],
 "metadata": {
  "kernel_info": {
   "name": "python3"
  },
  "kernelspec": {
   "display_name": "Python 3 (ipykernel)",
   "language": "python",
   "name": "python3"
  },
  "language_info": {
   "codemirror_mode": {
    "name": "ipython",
    "version": 3
   },
   "file_extension": ".py",
   "mimetype": "text/x-python",
   "name": "python",
   "nbconvert_exporter": "python",
   "pygments_lexer": "ipython3",
   "version": "3.9.13"
  },
  "nteract": {
   "version": "0.12.3"
  }
 },
 "nbformat": 4,
 "nbformat_minor": 4
}
