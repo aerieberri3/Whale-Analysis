{
 "cells": [
  {
   "cell_type": "markdown",
   "metadata": {},
   "source": [
    "### Execute the Numbers API for the number 42"
   ]
  },
  {
   "cell_type": "code",
   "execution_count": null,
   "metadata": {},
   "outputs": [],
   "source": [
    "import requests\n",
    "import json\n",
    "\n",
    "# Create parameterized url\n",
    "request_url = \"http://numbersapi.com/42?json\"\n",
    "\n",
    "# Submit request and format output\n",
    "\n",
    "\n",
    "# Select fact \n"
   ]
  },
  {
   "cell_type": "markdown",
   "metadata": {},
   "source": [
    "### Execute the Numbers API for the number 8"
   ]
  },
  {
   "cell_type": "code",
   "execution_count": null,
   "metadata": {},
   "outputs": [
    {
     "name": "stdout",
     "output_type": "stream",
     "text": [
      "{\n",
      "    \"text\": \"8 is the number of bits in a byte.\",\n",
      "    \"number\": 8,\n",
      "    \"found\": true,\n",
      "    \"type\": \"trivia\"\n",
      "}\n"
     ]
    }
   ],
   "source": [
    "# Create parameterized url\n",
    "request_url = \"http://numbersapi.com/8?json\"\n",
    "\n",
    "# Submit request and format output\n",
    "\n",
    "\n",
    "# Select fact\n"
   ]
  }
 ],
 "metadata": {
  "kernelspec": {
   "display_name": "Python 3 (ipykernel)",
   "language": "python",
   "name": "python3"
  },
  "language_info": {
   "codemirror_mode": {
    "name": "ipython",
    "version": 3
   },
   "file_extension": ".py",
   "mimetype": "text/x-python",
   "name": "python",
   "nbconvert_exporter": "python",
   "pygments_lexer": "ipython3",
   "version": "3.9.13"
  }
 },
 "nbformat": 4,
 "nbformat_minor": 4
}
