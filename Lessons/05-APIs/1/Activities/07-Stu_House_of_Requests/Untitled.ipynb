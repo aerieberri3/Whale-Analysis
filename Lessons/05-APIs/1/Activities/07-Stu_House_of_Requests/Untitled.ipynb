{
 "cells": [
  {
   "cell_type": "code",
   "execution_count": 1,
   "id": "c83c68b1-b870-4709-a35a-d684c403b30b",
   "metadata": {},
   "outputs": [],
   "source": [
    "import requests\n",
    "import json"
   ]
  },
  {
   "cell_type": "code",
   "execution_count": 2,
   "id": "40ce6913-43f1-44b1-b988-b58e62b665da",
   "metadata": {},
   "outputs": [
    {
     "ename": "SyntaxError",
     "evalue": "EOL while scanning string literal (3423756054.py, line 1)",
     "output_type": "error",
     "traceback": [
      "\u001b[1;36m  File \u001b[1;32m\"C:\\Users\\16238\\AppData\\Local\\Temp\\ipykernel_19156\\3423756054.py\"\u001b[1;36m, line \u001b[1;32m1\u001b[0m\n\u001b[1;33m    request_url='https://deckofcardsapi.com/api/deck/new/shuffle/?deck_count=6?json\"\u001b[0m\n\u001b[1;37m                                                                                    ^\u001b[0m\n\u001b[1;31mSyntaxError\u001b[0m\u001b[1;31m:\u001b[0m EOL while scanning string literal\n"
     ]
    }
   ],
   "source": [
    "request_url='https://deckofcardsapi.com/api/deck/new/shuffle/?deck_count=6?json\""
   ]
  },
  {
   "cell_type": "code",
   "execution_count": null,
   "id": "32140411-db73-4280-9499-00c230d766ed",
   "metadata": {},
   "outputs": [],
   "source": []
  }
 ],
 "metadata": {
  "kernelspec": {
   "display_name": "Python 3 (ipykernel)",
   "language": "python",
   "name": "python3"
  },
  "language_info": {
   "codemirror_mode": {
    "name": "ipython",
    "version": 3
   },
   "file_extension": ".py",
   "mimetype": "text/x-python",
   "name": "python",
   "nbconvert_exporter": "python",
   "pygments_lexer": "ipython3",
   "version": "3.9.13"
  }
 },
 "nbformat": 4,
 "nbformat_minor": 5
}
