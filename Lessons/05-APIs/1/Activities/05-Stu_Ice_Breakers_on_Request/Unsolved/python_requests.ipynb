{
 "cells": [
  {
   "cell_type": "markdown",
   "metadata": {},
   "source": [
    "## Ice Breakers on Request"
   ]
  },
  {
   "cell_type": "markdown",
   "metadata": {},
   "source": [
    "### Import requests library"
   ]
  },
  {
   "cell_type": "code",
   "execution_count": 4,
   "metadata": {},
   "outputs": [],
   "source": [
    "import requests"
   ]
  },
  {
   "cell_type": "markdown",
   "metadata": {},
   "source": [
    "### Declare `request_urls`"
   ]
  },
  {
   "cell_type": "code",
   "execution_count": 2,
   "metadata": {},
   "outputs": [],
   "source": [
    "# Declare `url` variables\n",
    "bitcoin_price_url = \"https://api.coindesk.com/v1/bpi/currentprice.json\"\n",
    "exchange_rate_url = \"https://open.er-api.com/v6/latest/CAD\"\n",
    "us_treasury_url = \"https://api.usaspending.gov//api/v2/references/agency/456/\"\n",
    "us_gdp_data_url = \"http://api.worldbank.org/v2/country/us?format=json\""
   ]
  },
  {
   "cell_type": "code",
   "execution_count": null,
   "metadata": {},
   "outputs": [],
   "source": [
    "bitcoin_price_url = \"https://api.coindesk.com/v1/bpi/currentprice.json\""
   ]
  },
  {
   "cell_type": "markdown",
   "metadata": {},
   "source": [
    "### Execute `GET` request using `requests` library"
   ]
  },
  {
   "cell_type": "code",
   "execution_count": 1,
   "metadata": {},
   "outputs": [],
   "source": [
    "# Execute `GET` request with url\n",
    "us_treasury_url = \"https://api.usaspending.gov//api/v2/references/agency/456/\""
   ]
  },
  {
   "cell_type": "markdown",
   "metadata": {},
   "source": [
    "### Get response `status code`"
   ]
  },
  {
   "cell_type": "code",
   "execution_count": 6,
   "metadata": {},
   "outputs": [
    {
     "data": {
      "text/plain": [
       "<Response [200]>"
      ]
     },
     "execution_count": 6,
     "metadata": {},
     "output_type": "execute_result"
    }
   ],
   "source": [
    "# Print `response_data variable`\n",
    "requests.get(us_treasury_url)"
   ]
  },
  {
   "cell_type": "markdown",
   "metadata": {},
   "source": [
    "### Extract response `content`"
   ]
  },
  {
   "cell_type": "code",
   "execution_count": 10,
   "metadata": {},
   "outputs": [
    {
     "name": "stdout",
     "output_type": "stream",
     "text": [
      "b'{\"results\":{\"agency_name\":\"Department of the Treasury\",\"active_fy\":\"2023\",\"active_fq\":\"2\",\"outlay_amount\":\"418295316556.40\",\"obligated_amount\":\"428278710420.48\",\"budget_authority_amount\":\"3304529087689.77\",\"current_total_budget_authority_amount\":\"11452525491046.04\",\"mission\":\"Maintain a strong economy and create economic and job opportunities by promoting the conditions that enable economic growth and stability at home and abroad, strengthen national security by combating threats and protecting the integrity of the financial system, and manage the U.S. Government\\'s finances and resources effectively.\",\"website\":\"https://www.treasury.gov/\",\"icon_filename\":\"DOT.jpg\",\"congressional_justification_url\":\"https://www.treasury.gov/cj\"}}'\n"
     ]
    }
   ],
   "source": [
    "# Store response using `content` attribute\n",
    "response_data = requests.get(us_treasury_url)\n",
    "response_content = response_data.content\n",
    "print(response_content)"
   ]
  },
  {
   "cell_type": "markdown",
   "metadata": {},
   "source": [
    "### Convert output to JSON"
   ]
  },
  {
   "cell_type": "code",
   "execution_count": 6,
   "metadata": {},
   "outputs": [],
   "source": [
    "# Format data as JSON\n"
   ]
  },
  {
   "cell_type": "markdown",
   "metadata": {},
   "source": [
    "### Format data with `json.dumps`"
   ]
  },
  {
   "cell_type": "code",
   "execution_count": 13,
   "metadata": {},
   "outputs": [
    {
     "name": "stdout",
     "output_type": "stream",
     "text": [
      "{\n",
      "    \"results\": {\n",
      "        \"agency_name\": \"Department of the Treasury\",\n",
      "        \"active_fy\": \"2023\",\n",
      "        \"active_fq\": \"2\",\n",
      "        \"outlay_amount\": \"418295316556.40\",\n",
      "        \"obligated_amount\": \"428278710420.48\",\n",
      "        \"budget_authority_amount\": \"3304529087689.77\",\n",
      "        \"current_total_budget_authority_amount\": \"11452525491046.04\",\n",
      "        \"mission\": \"Maintain a strong economy and create economic and job opportunities by promoting the conditions that enable economic growth and stability at home and abroad, strengthen national security by combating threats and protecting the integrity of the financial system, and manage the U.S. Government's finances and resources effectively.\",\n",
      "        \"website\": \"https://www.treasury.gov/\",\n",
      "        \"icon_filename\": \"DOT.jpg\",\n",
      "        \"congressional_justification_url\": \"https://www.treasury.gov/cj\"\n",
      "    }\n",
      "}\n"
     ]
    }
   ],
   "source": [
    "import json\n",
    "data = response_data.json()\n",
    "print(json.dumps(data, indent=4))\n",
    "\n",
    "\n",
    "# Use json.dumps to format data"
   ]
  },
  {
   "cell_type": "markdown",
   "metadata": {},
   "source": [
    "### Select value and store as variable"
   ]
  },
  {
   "cell_type": "code",
   "execution_count": 8,
   "metadata": {},
   "outputs": [],
   "source": [
    "# Select bitcoin values\n",
    "agency=data[1][1]['agency'\n",
    "print(\"Agency\"\n",
    "\n"
   ]
  },
  {
   "cell_type": "code",
   "execution_count": null,
   "metadata": {},
   "outputs": [],
   "source": [
    "country = data[1][1]['country']['value']\n",
    "gdp_value = data[1][1]['value']\n",
    "\n",
    "print(\"Country: \" + country)\n",
    "print(\"GDP Value: \" + str(gdp_value))"
   ]
  },
  {
   "cell_type": "code",
   "execution_count": 9,
   "metadata": {},
   "outputs": [],
   "source": [
    "# Print selected values\n"
   ]
  }
 ],
 "metadata": {
  "kernelspec": {
   "display_name": "Python 3 (ipykernel)",
   "language": "python",
   "name": "python3"
  },
  "language_info": {
   "codemirror_mode": {
    "name": "ipython",
    "version": 3
   },
   "file_extension": ".py",
   "mimetype": "text/x-python",
   "name": "python",
   "nbconvert_exporter": "python",
   "pygments_lexer": "ipython3",
   "version": "3.9.13"
  },
  "nteract": {
   "version": "0.28.0"
  }
 },
 "nbformat": 4,
 "nbformat_minor": 4
}
